{
  "nbformat": 4,
  "nbformat_minor": 0,
  "metadata": {
    "colab": {
      "name": "EEDProject.ipynb",
      "provenance": [],
      "authorship_tag": "ABX9TyNz7nbvnYoLyRbJdbsXTunX",
      "include_colab_link": true
    },
    "kernelspec": {
      "name": "python3",
      "display_name": "Python 3"
    },
    "language_info": {
      "name": "python"
    }
  },
  "cells": [
    {
      "cell_type": "markdown",
      "metadata": {
        "id": "view-in-github",
        "colab_type": "text"
      },
      "source": [
        "<a href=\"https://colab.research.google.com/github/debsa2000/MajorProject1_EEDcurriculum/blob/main/EEDProject.ipynb\" target=\"_parent\"><img src=\"https://colab.research.google.com/assets/colab-badge.svg\" alt=\"Open In Colab\"/></a>"
      ]
    },
    {
      "cell_type": "markdown",
      "metadata": {
        "id": "UYetJGahyNUx"
      },
      "source": [
        "## Importing Dataset"
      ]
    },
    {
      "cell_type": "code",
      "metadata": {
        "id": "DAsOEiFotC0f"
      },
      "source": [
        "from google.colab import drive"
      ],
      "execution_count": null,
      "outputs": []
    },
    {
      "cell_type": "code",
      "metadata": {
        "colab": {
          "base_uri": "https://localhost:8080/"
        },
        "id": "azZlTrdvtHlv",
        "outputId": "0f18b6b8-fbcd-4733-906f-43fefa75a246"
      },
      "source": [
        "drive.mount('/content/gdrive')"
      ],
      "execution_count": null,
      "outputs": [
        {
          "output_type": "stream",
          "name": "stdout",
          "text": [
            "Mounted at /content/gdrive\n"
          ]
        }
      ]
    },
    {
      "cell_type": "code",
      "metadata": {
        "id": "WZ0n4yGOuVxD"
      },
      "source": [
        "import os\n",
        "os.environ['KAGGLE_CONFIG_DIR']='/content/gdrive/MyDrive/EED497 Project with Prof. Madan Gopal'"
      ],
      "execution_count": null,
      "outputs": []
    },
    {
      "cell_type": "code",
      "metadata": {
        "colab": {
          "base_uri": "https://localhost:8080/"
        },
        "id": "CQxjNQdruz1Q",
        "outputId": "17a1daa4-b200-44b0-802e-9ad9399d9727"
      },
      "source": [
        "%cd /content/gdrive/MyDrive/EED497 Project with Prof. Madan Gopal"
      ],
      "execution_count": null,
      "outputs": [
        {
          "output_type": "stream",
          "name": "stdout",
          "text": [
            "/content/gdrive/MyDrive/EED497 Project with Prof. Madan Gopal\n"
          ]
        }
      ]
    },
    {
      "cell_type": "code",
      "metadata": {
        "colab": {
          "base_uri": "https://localhost:8080/"
        },
        "id": "9CDQEa5BvB5j",
        "outputId": "caef7523-248c-4108-c39a-a146469720ed"
      },
      "source": [
        "!ls"
      ],
      "execution_count": null,
      "outputs": [
        {
          "output_type": "stream",
          "name": "stdout",
          "text": [
            " EEDProject.ipynb\n",
            "'Literature Review papers'\n",
            "\"Madan sir's inputs.gdoc\"\n",
            "'Progress report-2: Data Preprocessing and Cleaning.gdoc'\n",
            "'Project Abstract.gdoc'\n",
            " sentiment140dataset.csv\n",
            "'Week1 Progress Report: Literature Review Survey.gdoc'\n"
          ]
        }
      ]
    },
    {
      "cell_type": "code",
      "metadata": {
        "id": "2XySQqq1vGa6"
      },
      "source": [
        "import pandas as pd\n",
        "\n",
        "#reading the data\n",
        "df = pd.read_csv(\"/content/gdrive/MyDrive/EED497 Project with Prof. Madan Gopal/sentiment140dataset.csv\",encoding=\"ISO-8859-1\", header= None)"
      ],
      "execution_count": null,
      "outputs": []
    },
    {
      "cell_type": "code",
      "metadata": {
        "colab": {
          "base_uri": "https://localhost:8080/",
          "height": 418
        },
        "id": "wROltzhJ8nYo",
        "outputId": "278b399f-9b51-454b-b5d7-b66640df9372"
      },
      "source": [
        "df"
      ],
      "execution_count": null,
      "outputs": [
        {
          "output_type": "execute_result",
          "data": {
            "text/html": [
              "<div>\n",
              "<style scoped>\n",
              "    .dataframe tbody tr th:only-of-type {\n",
              "        vertical-align: middle;\n",
              "    }\n",
              "\n",
              "    .dataframe tbody tr th {\n",
              "        vertical-align: top;\n",
              "    }\n",
              "\n",
              "    .dataframe thead th {\n",
              "        text-align: right;\n",
              "    }\n",
              "</style>\n",
              "<table border=\"1\" class=\"dataframe\">\n",
              "  <thead>\n",
              "    <tr style=\"text-align: right;\">\n",
              "      <th></th>\n",
              "      <th>0</th>\n",
              "      <th>1</th>\n",
              "      <th>2</th>\n",
              "      <th>3</th>\n",
              "      <th>4</th>\n",
              "      <th>5</th>\n",
              "    </tr>\n",
              "  </thead>\n",
              "  <tbody>\n",
              "    <tr>\n",
              "      <th>0</th>\n",
              "      <td>0</td>\n",
              "      <td>1467810369</td>\n",
              "      <td>Mon Apr 06 22:19:45 PDT 2009</td>\n",
              "      <td>NO_QUERY</td>\n",
              "      <td>_TheSpecialOne_</td>\n",
              "      <td>@switchfoot http://twitpic.com/2y1zl - Awww, t...</td>\n",
              "    </tr>\n",
              "    <tr>\n",
              "      <th>1</th>\n",
              "      <td>0</td>\n",
              "      <td>1467810672</td>\n",
              "      <td>Mon Apr 06 22:19:49 PDT 2009</td>\n",
              "      <td>NO_QUERY</td>\n",
              "      <td>scotthamilton</td>\n",
              "      <td>is upset that he can't update his Facebook by ...</td>\n",
              "    </tr>\n",
              "    <tr>\n",
              "      <th>2</th>\n",
              "      <td>0</td>\n",
              "      <td>1467810917</td>\n",
              "      <td>Mon Apr 06 22:19:53 PDT 2009</td>\n",
              "      <td>NO_QUERY</td>\n",
              "      <td>mattycus</td>\n",
              "      <td>@Kenichan I dived many times for the ball. Man...</td>\n",
              "    </tr>\n",
              "    <tr>\n",
              "      <th>3</th>\n",
              "      <td>0</td>\n",
              "      <td>1467811184</td>\n",
              "      <td>Mon Apr 06 22:19:57 PDT 2009</td>\n",
              "      <td>NO_QUERY</td>\n",
              "      <td>ElleCTF</td>\n",
              "      <td>my whole body feels itchy and like its on fire</td>\n",
              "    </tr>\n",
              "    <tr>\n",
              "      <th>4</th>\n",
              "      <td>0</td>\n",
              "      <td>1467811193</td>\n",
              "      <td>Mon Apr 06 22:19:57 PDT 2009</td>\n",
              "      <td>NO_QUERY</td>\n",
              "      <td>Karoli</td>\n",
              "      <td>@nationwideclass no, it's not behaving at all....</td>\n",
              "    </tr>\n",
              "    <tr>\n",
              "      <th>...</th>\n",
              "      <td>...</td>\n",
              "      <td>...</td>\n",
              "      <td>...</td>\n",
              "      <td>...</td>\n",
              "      <td>...</td>\n",
              "      <td>...</td>\n",
              "    </tr>\n",
              "    <tr>\n",
              "      <th>1599995</th>\n",
              "      <td>4</td>\n",
              "      <td>2193601966</td>\n",
              "      <td>Tue Jun 16 08:40:49 PDT 2009</td>\n",
              "      <td>NO_QUERY</td>\n",
              "      <td>AmandaMarie1028</td>\n",
              "      <td>Just woke up. Having no school is the best fee...</td>\n",
              "    </tr>\n",
              "    <tr>\n",
              "      <th>1599996</th>\n",
              "      <td>4</td>\n",
              "      <td>2193601969</td>\n",
              "      <td>Tue Jun 16 08:40:49 PDT 2009</td>\n",
              "      <td>NO_QUERY</td>\n",
              "      <td>TheWDBoards</td>\n",
              "      <td>TheWDB.com - Very cool to hear old Walt interv...</td>\n",
              "    </tr>\n",
              "    <tr>\n",
              "      <th>1599997</th>\n",
              "      <td>4</td>\n",
              "      <td>2193601991</td>\n",
              "      <td>Tue Jun 16 08:40:49 PDT 2009</td>\n",
              "      <td>NO_QUERY</td>\n",
              "      <td>bpbabe</td>\n",
              "      <td>Are you ready for your MoJo Makeover? Ask me f...</td>\n",
              "    </tr>\n",
              "    <tr>\n",
              "      <th>1599998</th>\n",
              "      <td>4</td>\n",
              "      <td>2193602064</td>\n",
              "      <td>Tue Jun 16 08:40:49 PDT 2009</td>\n",
              "      <td>NO_QUERY</td>\n",
              "      <td>tinydiamondz</td>\n",
              "      <td>Happy 38th Birthday to my boo of alll time!!! ...</td>\n",
              "    </tr>\n",
              "    <tr>\n",
              "      <th>1599999</th>\n",
              "      <td>4</td>\n",
              "      <td>2193602129</td>\n",
              "      <td>Tue Jun 16 08:40:50 PDT 2009</td>\n",
              "      <td>NO_QUERY</td>\n",
              "      <td>RyanTrevMorris</td>\n",
              "      <td>happy #charitytuesday @theNSPCC @SparksCharity...</td>\n",
              "    </tr>\n",
              "  </tbody>\n",
              "</table>\n",
              "<p>1600000 rows × 6 columns</p>\n",
              "</div>"
            ],
            "text/plain": [
              "         0  ...                                                  5\n",
              "0        0  ...  @switchfoot http://twitpic.com/2y1zl - Awww, t...\n",
              "1        0  ...  is upset that he can't update his Facebook by ...\n",
              "2        0  ...  @Kenichan I dived many times for the ball. Man...\n",
              "3        0  ...    my whole body feels itchy and like its on fire \n",
              "4        0  ...  @nationwideclass no, it's not behaving at all....\n",
              "...     ..  ...                                                ...\n",
              "1599995  4  ...  Just woke up. Having no school is the best fee...\n",
              "1599996  4  ...  TheWDB.com - Very cool to hear old Walt interv...\n",
              "1599997  4  ...  Are you ready for your MoJo Makeover? Ask me f...\n",
              "1599998  4  ...  Happy 38th Birthday to my boo of alll time!!! ...\n",
              "1599999  4  ...  happy #charitytuesday @theNSPCC @SparksCharity...\n",
              "\n",
              "[1600000 rows x 6 columns]"
            ]
          },
          "metadata": {},
          "execution_count": 36
        }
      ]
    },
    {
      "cell_type": "markdown",
      "metadata": {
        "id": "8jb6GquSzNqX"
      },
      "source": [
        "## Naming Columns"
      ]
    },
    {
      "cell_type": "code",
      "metadata": {
        "colab": {
          "base_uri": "https://localhost:8080/",
          "height": 204
        },
        "id": "yo-0Hldy8uPS",
        "outputId": "0e1d3eaa-819a-45a1-923d-5af3852ac828"
      },
      "source": [
        "df.columns = ['sentiment', 'id', 'date', 'query', 'user_id', 'text']\n",
        "df.head()"
      ],
      "execution_count": null,
      "outputs": [
        {
          "output_type": "execute_result",
          "data": {
            "text/html": [
              "<div>\n",
              "<style scoped>\n",
              "    .dataframe tbody tr th:only-of-type {\n",
              "        vertical-align: middle;\n",
              "    }\n",
              "\n",
              "    .dataframe tbody tr th {\n",
              "        vertical-align: top;\n",
              "    }\n",
              "\n",
              "    .dataframe thead th {\n",
              "        text-align: right;\n",
              "    }\n",
              "</style>\n",
              "<table border=\"1\" class=\"dataframe\">\n",
              "  <thead>\n",
              "    <tr style=\"text-align: right;\">\n",
              "      <th></th>\n",
              "      <th>sentiment</th>\n",
              "      <th>id</th>\n",
              "      <th>date</th>\n",
              "      <th>query</th>\n",
              "      <th>user_id</th>\n",
              "      <th>text</th>\n",
              "    </tr>\n",
              "  </thead>\n",
              "  <tbody>\n",
              "    <tr>\n",
              "      <th>0</th>\n",
              "      <td>0</td>\n",
              "      <td>1467810369</td>\n",
              "      <td>Mon Apr 06 22:19:45 PDT 2009</td>\n",
              "      <td>NO_QUERY</td>\n",
              "      <td>_TheSpecialOne_</td>\n",
              "      <td>@switchfoot http://twitpic.com/2y1zl - Awww, t...</td>\n",
              "    </tr>\n",
              "    <tr>\n",
              "      <th>1</th>\n",
              "      <td>0</td>\n",
              "      <td>1467810672</td>\n",
              "      <td>Mon Apr 06 22:19:49 PDT 2009</td>\n",
              "      <td>NO_QUERY</td>\n",
              "      <td>scotthamilton</td>\n",
              "      <td>is upset that he can't update his Facebook by ...</td>\n",
              "    </tr>\n",
              "    <tr>\n",
              "      <th>2</th>\n",
              "      <td>0</td>\n",
              "      <td>1467810917</td>\n",
              "      <td>Mon Apr 06 22:19:53 PDT 2009</td>\n",
              "      <td>NO_QUERY</td>\n",
              "      <td>mattycus</td>\n",
              "      <td>@Kenichan I dived many times for the ball. Man...</td>\n",
              "    </tr>\n",
              "    <tr>\n",
              "      <th>3</th>\n",
              "      <td>0</td>\n",
              "      <td>1467811184</td>\n",
              "      <td>Mon Apr 06 22:19:57 PDT 2009</td>\n",
              "      <td>NO_QUERY</td>\n",
              "      <td>ElleCTF</td>\n",
              "      <td>my whole body feels itchy and like its on fire</td>\n",
              "    </tr>\n",
              "    <tr>\n",
              "      <th>4</th>\n",
              "      <td>0</td>\n",
              "      <td>1467811193</td>\n",
              "      <td>Mon Apr 06 22:19:57 PDT 2009</td>\n",
              "      <td>NO_QUERY</td>\n",
              "      <td>Karoli</td>\n",
              "      <td>@nationwideclass no, it's not behaving at all....</td>\n",
              "    </tr>\n",
              "  </tbody>\n",
              "</table>\n",
              "</div>"
            ],
            "text/plain": [
              "   sentiment  ...                                               text\n",
              "0          0  ...  @switchfoot http://twitpic.com/2y1zl - Awww, t...\n",
              "1          0  ...  is upset that he can't update his Facebook by ...\n",
              "2          0  ...  @Kenichan I dived many times for the ball. Man...\n",
              "3          0  ...    my whole body feels itchy and like its on fire \n",
              "4          0  ...  @nationwideclass no, it's not behaving at all....\n",
              "\n",
              "[5 rows x 6 columns]"
            ]
          },
          "metadata": {},
          "execution_count": 37
        }
      ]
    },
    {
      "cell_type": "markdown",
      "metadata": {
        "id": "as9eJ9u3yVyS"
      },
      "source": [
        "## Dealing With Missing Values"
      ]
    },
    {
      "cell_type": "code",
      "metadata": {
        "colab": {
          "base_uri": "https://localhost:8080/"
        },
        "id": "CsmiiYdfyZqV",
        "outputId": "cdcf4c2f-9ebc-4bea-eddb-3c107be7aae9"
      },
      "source": [
        "df.isna().sum()"
      ],
      "execution_count": null,
      "outputs": [
        {
          "output_type": "execute_result",
          "data": {
            "text/plain": [
              "sentiment    0\n",
              "id           0\n",
              "date         0\n",
              "query        0\n",
              "user_id      0\n",
              "text         0\n",
              "dtype: int64"
            ]
          },
          "metadata": {},
          "execution_count": 38
        }
      ]
    },
    {
      "cell_type": "markdown",
      "metadata": {
        "id": "zkGkApuyzTcZ"
      },
      "source": [
        "It can be seen that there are no missing values."
      ]
    },
    {
      "cell_type": "markdown",
      "metadata": {
        "id": "rU_NzN9BzfAi"
      },
      "source": [
        "## Removing redundant columns"
      ]
    },
    {
      "cell_type": "markdown",
      "metadata": {
        "id": "SYbeXtzyh4Z1"
      },
      "source": [
        "Since only the tweet text is going to be used for classifying sentiments, the rest of the useless columns are removed:"
      ]
    },
    {
      "cell_type": "code",
      "metadata": {
        "id": "41Y7W88ciIPr"
      },
      "source": [
        "df = df.drop(['id', 'date', 'query', 'user_id'], axis=1)"
      ],
      "execution_count": null,
      "outputs": []
    },
    {
      "cell_type": "code",
      "metadata": {
        "colab": {
          "base_uri": "https://localhost:8080/",
          "height": 204
        },
        "id": "FvqHiSUmiXCH",
        "outputId": "14cf2c54-3883-4f70-bb51-bf1145dfdf11"
      },
      "source": [
        "df.head()"
      ],
      "execution_count": null,
      "outputs": [
        {
          "output_type": "execute_result",
          "data": {
            "text/html": [
              "<div>\n",
              "<style scoped>\n",
              "    .dataframe tbody tr th:only-of-type {\n",
              "        vertical-align: middle;\n",
              "    }\n",
              "\n",
              "    .dataframe tbody tr th {\n",
              "        vertical-align: top;\n",
              "    }\n",
              "\n",
              "    .dataframe thead th {\n",
              "        text-align: right;\n",
              "    }\n",
              "</style>\n",
              "<table border=\"1\" class=\"dataframe\">\n",
              "  <thead>\n",
              "    <tr style=\"text-align: right;\">\n",
              "      <th></th>\n",
              "      <th>sentiment</th>\n",
              "      <th>text</th>\n",
              "    </tr>\n",
              "  </thead>\n",
              "  <tbody>\n",
              "    <tr>\n",
              "      <th>0</th>\n",
              "      <td>0</td>\n",
              "      <td>@switchfoot http://twitpic.com/2y1zl - Awww, t...</td>\n",
              "    </tr>\n",
              "    <tr>\n",
              "      <th>1</th>\n",
              "      <td>0</td>\n",
              "      <td>is upset that he can't update his Facebook by ...</td>\n",
              "    </tr>\n",
              "    <tr>\n",
              "      <th>2</th>\n",
              "      <td>0</td>\n",
              "      <td>@Kenichan I dived many times for the ball. Man...</td>\n",
              "    </tr>\n",
              "    <tr>\n",
              "      <th>3</th>\n",
              "      <td>0</td>\n",
              "      <td>my whole body feels itchy and like its on fire</td>\n",
              "    </tr>\n",
              "    <tr>\n",
              "      <th>4</th>\n",
              "      <td>0</td>\n",
              "      <td>@nationwideclass no, it's not behaving at all....</td>\n",
              "    </tr>\n",
              "  </tbody>\n",
              "</table>\n",
              "</div>"
            ],
            "text/plain": [
              "   sentiment                                               text\n",
              "0          0  @switchfoot http://twitpic.com/2y1zl - Awww, t...\n",
              "1          0  is upset that he can't update his Facebook by ...\n",
              "2          0  @Kenichan I dived many times for the ball. Man...\n",
              "3          0    my whole body feels itchy and like its on fire \n",
              "4          0  @nationwideclass no, it's not behaving at all...."
            ]
          },
          "metadata": {},
          "execution_count": 40
        }
      ]
    },
    {
      "cell_type": "markdown",
      "metadata": {
        "id": "srNK4Kb8KalM"
      },
      "source": [
        "## Labelling classes"
      ]
    },
    {
      "cell_type": "code",
      "metadata": {
        "id": "2nbKI1pHoGsS"
      },
      "source": [
        "lab_to_sentiment = {0:\"Negative\", 4:\"Positive\"}\n",
        "def label_decoder(label):\n",
        "  return lab_to_sentiment[label]\n",
        "df.sentiment = df.sentiment.apply(lambda x: label_decoder(x))"
      ],
      "execution_count": null,
      "outputs": []
    },
    {
      "cell_type": "code",
      "metadata": {
        "colab": {
          "base_uri": "https://localhost:8080/",
          "height": 418
        },
        "id": "l5c5ngBjoM0m",
        "outputId": "59ff8baa-4ab9-46e2-ca00-72f3a234cb5e"
      },
      "source": [
        "df"
      ],
      "execution_count": null,
      "outputs": [
        {
          "output_type": "execute_result",
          "data": {
            "text/html": [
              "<div>\n",
              "<style scoped>\n",
              "    .dataframe tbody tr th:only-of-type {\n",
              "        vertical-align: middle;\n",
              "    }\n",
              "\n",
              "    .dataframe tbody tr th {\n",
              "        vertical-align: top;\n",
              "    }\n",
              "\n",
              "    .dataframe thead th {\n",
              "        text-align: right;\n",
              "    }\n",
              "</style>\n",
              "<table border=\"1\" class=\"dataframe\">\n",
              "  <thead>\n",
              "    <tr style=\"text-align: right;\">\n",
              "      <th></th>\n",
              "      <th>sentiment</th>\n",
              "      <th>text</th>\n",
              "    </tr>\n",
              "  </thead>\n",
              "  <tbody>\n",
              "    <tr>\n",
              "      <th>0</th>\n",
              "      <td>Negative</td>\n",
              "      <td>@switchfoot http://twitpic.com/2y1zl - Awww, t...</td>\n",
              "    </tr>\n",
              "    <tr>\n",
              "      <th>1</th>\n",
              "      <td>Negative</td>\n",
              "      <td>is upset that he can't update his Facebook by ...</td>\n",
              "    </tr>\n",
              "    <tr>\n",
              "      <th>2</th>\n",
              "      <td>Negative</td>\n",
              "      <td>@Kenichan I dived many times for the ball. Man...</td>\n",
              "    </tr>\n",
              "    <tr>\n",
              "      <th>3</th>\n",
              "      <td>Negative</td>\n",
              "      <td>my whole body feels itchy and like its on fire</td>\n",
              "    </tr>\n",
              "    <tr>\n",
              "      <th>4</th>\n",
              "      <td>Negative</td>\n",
              "      <td>@nationwideclass no, it's not behaving at all....</td>\n",
              "    </tr>\n",
              "    <tr>\n",
              "      <th>...</th>\n",
              "      <td>...</td>\n",
              "      <td>...</td>\n",
              "    </tr>\n",
              "    <tr>\n",
              "      <th>1599995</th>\n",
              "      <td>Positive</td>\n",
              "      <td>Just woke up. Having no school is the best fee...</td>\n",
              "    </tr>\n",
              "    <tr>\n",
              "      <th>1599996</th>\n",
              "      <td>Positive</td>\n",
              "      <td>TheWDB.com - Very cool to hear old Walt interv...</td>\n",
              "    </tr>\n",
              "    <tr>\n",
              "      <th>1599997</th>\n",
              "      <td>Positive</td>\n",
              "      <td>Are you ready for your MoJo Makeover? Ask me f...</td>\n",
              "    </tr>\n",
              "    <tr>\n",
              "      <th>1599998</th>\n",
              "      <td>Positive</td>\n",
              "      <td>Happy 38th Birthday to my boo of alll time!!! ...</td>\n",
              "    </tr>\n",
              "    <tr>\n",
              "      <th>1599999</th>\n",
              "      <td>Positive</td>\n",
              "      <td>happy #charitytuesday @theNSPCC @SparksCharity...</td>\n",
              "    </tr>\n",
              "  </tbody>\n",
              "</table>\n",
              "<p>1600000 rows × 2 columns</p>\n",
              "</div>"
            ],
            "text/plain": [
              "        sentiment                                               text\n",
              "0        Negative  @switchfoot http://twitpic.com/2y1zl - Awww, t...\n",
              "1        Negative  is upset that he can't update his Facebook by ...\n",
              "2        Negative  @Kenichan I dived many times for the ball. Man...\n",
              "3        Negative    my whole body feels itchy and like its on fire \n",
              "4        Negative  @nationwideclass no, it's not behaving at all....\n",
              "...           ...                                                ...\n",
              "1599995  Positive  Just woke up. Having no school is the best fee...\n",
              "1599996  Positive  TheWDB.com - Very cool to hear old Walt interv...\n",
              "1599997  Positive  Are you ready for your MoJo Makeover? Ask me f...\n",
              "1599998  Positive  Happy 38th Birthday to my boo of alll time!!! ...\n",
              "1599999  Positive  happy #charitytuesday @theNSPCC @SparksCharity...\n",
              "\n",
              "[1600000 rows x 2 columns]"
            ]
          },
          "metadata": {},
          "execution_count": 42
        }
      ]
    },
    {
      "cell_type": "markdown",
      "metadata": {
        "id": "8MZjCz-6nxU_"
      },
      "source": [
        "# Data Skewness Visualization\n"
      ]
    },
    {
      "cell_type": "code",
      "metadata": {
        "colab": {
          "base_uri": "https://localhost:8080/",
          "height": 299
        },
        "id": "mRwFcXV_oet4",
        "outputId": "f942250e-4cef-4fdb-8bde-d93bf3e5c5ab"
      },
      "source": [
        "val_count = df.sentiment.value_counts()\n",
        "\n",
        "import matplotlib.pyplot as plt\n",
        "plt.figure(figsize=(8,4))\n",
        "plt.bar(val_count.index, val_count.values)\n",
        "plt.title(\"Sentiment Data Distribution\")"
      ],
      "execution_count": null,
      "outputs": [
        {
          "output_type": "execute_result",
          "data": {
            "text/plain": [
              "Text(0.5, 1.0, 'Sentiment Data Distribution')"
            ]
          },
          "metadata": {},
          "execution_count": 43
        },
        {
          "output_type": "display_data",
          "data": {
            "image/png": "[encoded data removed]",
            "text/plain": [
              "<Figure size 576x288 with 1 Axes>"
            ]
          },
          "metadata": {
            "needs_background": "light"
          }
        }
      ]
    },
    {
      "cell_type": "markdown",
      "metadata": {
        "id": "tV7gGQmMoswQ"
      },
      "source": [
        "It's a very good dataset without any skewness"
      ]
    },
    {
      "cell_type": "markdown",
      "metadata": {
        "id": "ePpsevvpi-Dj"
      },
      "source": [
        "# **Data Preprocessing**\n"
      ]
    },
    {
      "cell_type": "code",
      "metadata": {
        "colab": {
          "base_uri": "https://localhost:8080/",
          "height": 512
        },
        "id": "pq7gKyRWwoaG",
        "outputId": "82c894b2-ff88-4668-d959-f0c42cd5971e"
      },
      "source": [
        "df.head(15)"
      ],
      "execution_count": null,
      "outputs": [
        {
          "output_type": "execute_result",
          "data": {
            "text/html": [
              "<div>\n",
              "<style scoped>\n",
              "    .dataframe tbody tr th:only-of-type {\n",
              "        vertical-align: middle;\n",
              "    }\n",
              "\n",
              "    .dataframe tbody tr th {\n",
              "        vertical-align: top;\n",
              "    }\n",
              "\n",
              "    .dataframe thead th {\n",
              "        text-align: right;\n",
              "    }\n",
              "</style>\n",
              "<table border=\"1\" class=\"dataframe\">\n",
              "  <thead>\n",
              "    <tr style=\"text-align: right;\">\n",
              "      <th></th>\n",
              "      <th>sentiment</th>\n",
              "      <th>text</th>\n",
              "    </tr>\n",
              "  </thead>\n",
              "  <tbody>\n",
              "    <tr>\n",
              "      <th>0</th>\n",
              "      <td>Negative</td>\n",
              "      <td>@switchfoot http://twitpic.com/2y1zl - Awww, t...</td>\n",
              "    </tr>\n",
              "    <tr>\n",
              "      <th>1</th>\n",
              "      <td>Negative</td>\n",
              "      <td>is upset that he can't update his Facebook by ...</td>\n",
              "    </tr>\n",
              "    <tr>\n",
              "      <th>2</th>\n",
              "      <td>Negative</td>\n",
              "      <td>@Kenichan I dived many times for the ball. Man...</td>\n",
              "    </tr>\n",
              "    <tr>\n",
              "      <th>3</th>\n",
              "      <td>Negative</td>\n",
              "      <td>my whole body feels itchy and like its on fire</td>\n",
              "    </tr>\n",
              "    <tr>\n",
              "      <th>4</th>\n",
              "      <td>Negative</td>\n",
              "      <td>@nationwideclass no, it's not behaving at all....</td>\n",
              "    </tr>\n",
              "    <tr>\n",
              "      <th>5</th>\n",
              "      <td>Negative</td>\n",
              "      <td>@Kwesidei not the whole crew</td>\n",
              "    </tr>\n",
              "    <tr>\n",
              "      <th>6</th>\n",
              "      <td>Negative</td>\n",
              "      <td>Need a hug</td>\n",
              "    </tr>\n",
              "    <tr>\n",
              "      <th>7</th>\n",
              "      <td>Negative</td>\n",
              "      <td>@LOLTrish hey  long time no see! Yes.. Rains a...</td>\n",
              "    </tr>\n",
              "    <tr>\n",
              "      <th>8</th>\n",
              "      <td>Negative</td>\n",
              "      <td>@Tatiana_K nope they didn't have it</td>\n",
              "    </tr>\n",
              "    <tr>\n",
              "      <th>9</th>\n",
              "      <td>Negative</td>\n",
              "      <td>@twittera que me muera ?</td>\n",
              "    </tr>\n",
              "    <tr>\n",
              "      <th>10</th>\n",
              "      <td>Negative</td>\n",
              "      <td>spring break in plain city... it's snowing</td>\n",
              "    </tr>\n",
              "    <tr>\n",
              "      <th>11</th>\n",
              "      <td>Negative</td>\n",
              "      <td>I just re-pierced my ears</td>\n",
              "    </tr>\n",
              "    <tr>\n",
              "      <th>12</th>\n",
              "      <td>Negative</td>\n",
              "      <td>@caregiving I couldn't bear to watch it.  And ...</td>\n",
              "    </tr>\n",
              "    <tr>\n",
              "      <th>13</th>\n",
              "      <td>Negative</td>\n",
              "      <td>@octolinz16 It it counts, idk why I did either...</td>\n",
              "    </tr>\n",
              "    <tr>\n",
              "      <th>14</th>\n",
              "      <td>Negative</td>\n",
              "      <td>@smarrison i would've been the first, but i di...</td>\n",
              "    </tr>\n",
              "  </tbody>\n",
              "</table>\n",
              "</div>"
            ],
            "text/plain": [
              "   sentiment                                               text\n",
              "0   Negative  @switchfoot http://twitpic.com/2y1zl - Awww, t...\n",
              "1   Negative  is upset that he can't update his Facebook by ...\n",
              "2   Negative  @Kenichan I dived many times for the ball. Man...\n",
              "3   Negative    my whole body feels itchy and like its on fire \n",
              "4   Negative  @nationwideclass no, it's not behaving at all....\n",
              "5   Negative                      @Kwesidei not the whole crew \n",
              "6   Negative                                        Need a hug \n",
              "7   Negative  @LOLTrish hey  long time no see! Yes.. Rains a...\n",
              "8   Negative               @Tatiana_K nope they didn't have it \n",
              "9   Negative                          @twittera que me muera ? \n",
              "10  Negative        spring break in plain city... it's snowing \n",
              "11  Negative                         I just re-pierced my ears \n",
              "12  Negative  @caregiving I couldn't bear to watch it.  And ...\n",
              "13  Negative  @octolinz16 It it counts, idk why I did either...\n",
              "14  Negative  @smarrison i would've been the first, but i di..."
            ]
          },
          "metadata": {},
          "execution_count": 44
        }
      ]
    },
    {
      "cell_type": "markdown",
      "metadata": {
        "id": "1mU_lSQPyC6q"
      },
      "source": [
        "### Removing URLs (http://... or https://...), hashtags, mentions(@profilename) and old style retweet text \"RT\""
      ]
    },
    {
      "cell_type": "code",
      "metadata": {
        "id": "4BdKy2TzyGlu"
      },
      "source": [
        "import re\n",
        "\n",
        "def remove_junk(input_text):\n",
        "  url_removed_text= re.sub(r'http\\S+','',input_text)\n",
        "  hashtag_removed_text= re.sub(r'@[A-Za-z0-9_]+', '',url_removed_text)\n",
        "  tag_removed_text= re.sub(r'#[A-Za-z0-9_]+', '',hashtag_removed_text)\n",
        "  cleaned_text= re.sub(r'^RT[\\s]+', '',tag_removed_text)\n",
        "  return cleaned_text\n",
        "\n",
        "df['text'] = df['text'].apply(remove_junk)"
      ],
      "execution_count": null,
      "outputs": []
    },
    {
      "cell_type": "code",
      "metadata": {
        "colab": {
          "base_uri": "https://localhost:8080/",
          "height": 512
        },
        "id": "3grvYAqRWgjP",
        "outputId": "c5dc70d8-4656-4d51-ff8d-539f3d81d61c"
      },
      "source": [
        "df.head(15)"
      ],
      "execution_count": null,
      "outputs": [
        {
          "output_type": "execute_result",
          "data": {
            "text/html": [
              "<div>\n",
              "<style scoped>\n",
              "    .dataframe tbody tr th:only-of-type {\n",
              "        vertical-align: middle;\n",
              "    }\n",
              "\n",
              "    .dataframe tbody tr th {\n",
              "        vertical-align: top;\n",
              "    }\n",
              "\n",
              "    .dataframe thead th {\n",
              "        text-align: right;\n",
              "    }\n",
              "</style>\n",
              "<table border=\"1\" class=\"dataframe\">\n",
              "  <thead>\n",
              "    <tr style=\"text-align: right;\">\n",
              "      <th></th>\n",
              "      <th>sentiment</th>\n",
              "      <th>text</th>\n",
              "    </tr>\n",
              "  </thead>\n",
              "  <tbody>\n",
              "    <tr>\n",
              "      <th>0</th>\n",
              "      <td>Negative</td>\n",
              "      <td>- Awww, that's a bummer.  You shoulda got Da...</td>\n",
              "    </tr>\n",
              "    <tr>\n",
              "      <th>1</th>\n",
              "      <td>Negative</td>\n",
              "      <td>is upset that he can't update his Facebook by ...</td>\n",
              "    </tr>\n",
              "    <tr>\n",
              "      <th>2</th>\n",
              "      <td>Negative</td>\n",
              "      <td>I dived many times for the ball. Managed to s...</td>\n",
              "    </tr>\n",
              "    <tr>\n",
              "      <th>3</th>\n",
              "      <td>Negative</td>\n",
              "      <td>my whole body feels itchy and like its on fire</td>\n",
              "    </tr>\n",
              "    <tr>\n",
              "      <th>4</th>\n",
              "      <td>Negative</td>\n",
              "      <td>no, it's not behaving at all. i'm mad. why am...</td>\n",
              "    </tr>\n",
              "    <tr>\n",
              "      <th>5</th>\n",
              "      <td>Negative</td>\n",
              "      <td>not the whole crew</td>\n",
              "    </tr>\n",
              "    <tr>\n",
              "      <th>6</th>\n",
              "      <td>Negative</td>\n",
              "      <td>Need a hug</td>\n",
              "    </tr>\n",
              "    <tr>\n",
              "      <th>7</th>\n",
              "      <td>Negative</td>\n",
              "      <td>hey  long time no see! Yes.. Rains a bit ,onl...</td>\n",
              "    </tr>\n",
              "    <tr>\n",
              "      <th>8</th>\n",
              "      <td>Negative</td>\n",
              "      <td>nope they didn't have it</td>\n",
              "    </tr>\n",
              "    <tr>\n",
              "      <th>9</th>\n",
              "      <td>Negative</td>\n",
              "      <td>que me muera ?</td>\n",
              "    </tr>\n",
              "    <tr>\n",
              "      <th>10</th>\n",
              "      <td>Negative</td>\n",
              "      <td>spring break in plain city... it's snowing</td>\n",
              "    </tr>\n",
              "    <tr>\n",
              "      <th>11</th>\n",
              "      <td>Negative</td>\n",
              "      <td>I just re-pierced my ears</td>\n",
              "    </tr>\n",
              "    <tr>\n",
              "      <th>12</th>\n",
              "      <td>Negative</td>\n",
              "      <td>I couldn't bear to watch it.  And I thought t...</td>\n",
              "    </tr>\n",
              "    <tr>\n",
              "      <th>13</th>\n",
              "      <td>Negative</td>\n",
              "      <td>It it counts, idk why I did either. you never...</td>\n",
              "    </tr>\n",
              "    <tr>\n",
              "      <th>14</th>\n",
              "      <td>Negative</td>\n",
              "      <td>i would've been the first, but i didn't have ...</td>\n",
              "    </tr>\n",
              "  </tbody>\n",
              "</table>\n",
              "</div>"
            ],
            "text/plain": [
              "   sentiment                                               text\n",
              "0   Negative    - Awww, that's a bummer.  You shoulda got Da...\n",
              "1   Negative  is upset that he can't update his Facebook by ...\n",
              "2   Negative   I dived many times for the ball. Managed to s...\n",
              "3   Negative    my whole body feels itchy and like its on fire \n",
              "4   Negative   no, it's not behaving at all. i'm mad. why am...\n",
              "5   Negative                                not the whole crew \n",
              "6   Negative                                        Need a hug \n",
              "7   Negative   hey  long time no see! Yes.. Rains a bit ,onl...\n",
              "8   Negative                          nope they didn't have it \n",
              "9   Negative                                    que me muera ? \n",
              "10  Negative        spring break in plain city... it's snowing \n",
              "11  Negative                         I just re-pierced my ears \n",
              "12  Negative   I couldn't bear to watch it.  And I thought t...\n",
              "13  Negative   It it counts, idk why I did either. you never...\n",
              "14  Negative   i would've been the first, but i didn't have ..."
            ]
          },
          "metadata": {},
          "execution_count": 46
        }
      ]
    },
    {
      "cell_type": "markdown",
      "metadata": {
        "id": "XrOKL9kubdVn"
      },
      "source": [
        "### Split attached words"
      ]
    },
    {
      "cell_type": "code",
      "metadata": {
        "colab": {
          "base_uri": "https://localhost:8080/",
          "height": 418
        },
        "id": "jRfv4I9UzhVm",
        "outputId": "25d9e87f-049a-4bd7-e26b-d88b740338cf"
      },
      "source": [
        "df"
      ],
      "execution_count": null,
      "outputs": [
        {
          "output_type": "execute_result",
          "data": {
            "text/html": [
              "<div>\n",
              "<style scoped>\n",
              "    .dataframe tbody tr th:only-of-type {\n",
              "        vertical-align: middle;\n",
              "    }\n",
              "\n",
              "    .dataframe tbody tr th {\n",
              "        vertical-align: top;\n",
              "    }\n",
              "\n",
              "    .dataframe thead th {\n",
              "        text-align: right;\n",
              "    }\n",
              "</style>\n",
              "<table border=\"1\" class=\"dataframe\">\n",
              "  <thead>\n",
              "    <tr style=\"text-align: right;\">\n",
              "      <th></th>\n",
              "      <th>sentiment</th>\n",
              "      <th>text</th>\n",
              "    </tr>\n",
              "  </thead>\n",
              "  <tbody>\n",
              "    <tr>\n",
              "      <th>0</th>\n",
              "      <td>Negative</td>\n",
              "      <td>- Awww, that's a bummer.  You shoulda got Da...</td>\n",
              "    </tr>\n",
              "    <tr>\n",
              "      <th>1</th>\n",
              "      <td>Negative</td>\n",
              "      <td>is upset that he can't update his Facebook by ...</td>\n",
              "    </tr>\n",
              "    <tr>\n",
              "      <th>2</th>\n",
              "      <td>Negative</td>\n",
              "      <td>I dived many times for the ball. Managed to s...</td>\n",
              "    </tr>\n",
              "    <tr>\n",
              "      <th>3</th>\n",
              "      <td>Negative</td>\n",
              "      <td>my whole body feels itchy and like its on fire</td>\n",
              "    </tr>\n",
              "    <tr>\n",
              "      <th>4</th>\n",
              "      <td>Negative</td>\n",
              "      <td>no, it's not behaving at all. i'm mad. why am...</td>\n",
              "    </tr>\n",
              "    <tr>\n",
              "      <th>...</th>\n",
              "      <td>...</td>\n",
              "      <td>...</td>\n",
              "    </tr>\n",
              "    <tr>\n",
              "      <th>1599995</th>\n",
              "      <td>Positive</td>\n",
              "      <td>Just woke up. Having no school is the best fee...</td>\n",
              "    </tr>\n",
              "    <tr>\n",
              "      <th>1599996</th>\n",
              "      <td>Positive</td>\n",
              "      <td>TheWDB.com - Very cool to hear old Walt interv...</td>\n",
              "    </tr>\n",
              "    <tr>\n",
              "      <th>1599997</th>\n",
              "      <td>Positive</td>\n",
              "      <td>Are you ready for your MoJo Makeover? Ask me f...</td>\n",
              "    </tr>\n",
              "    <tr>\n",
              "      <th>1599998</th>\n",
              "      <td>Positive</td>\n",
              "      <td>Happy 38th Birthday to my boo of alll time!!! ...</td>\n",
              "    </tr>\n",
              "    <tr>\n",
              "      <th>1599999</th>\n",
              "      <td>Positive</td>\n",
              "      <td>happy</td>\n",
              "    </tr>\n",
              "  </tbody>\n",
              "</table>\n",
              "<p>1600000 rows × 2 columns</p>\n",
              "</div>"
            ],
            "text/plain": [
              "        sentiment                                               text\n",
              "0        Negative    - Awww, that's a bummer.  You shoulda got Da...\n",
              "1        Negative  is upset that he can't update his Facebook by ...\n",
              "2        Negative   I dived many times for the ball. Managed to s...\n",
              "3        Negative    my whole body feels itchy and like its on fire \n",
              "4        Negative   no, it's not behaving at all. i'm mad. why am...\n",
              "...           ...                                                ...\n",
              "1599995  Positive  Just woke up. Having no school is the best fee...\n",
              "1599996  Positive  TheWDB.com - Very cool to hear old Walt interv...\n",
              "1599997  Positive  Are you ready for your MoJo Makeover? Ask me f...\n",
              "1599998  Positive  Happy 38th Birthday to my boo of alll time!!! ...\n",
              "1599999  Positive                                         happy     \n",
              "\n",
              "[1600000 rows x 2 columns]"
            ]
          },
          "metadata": {},
          "execution_count": 47
        }
      ]
    },
    {
      "cell_type": "code",
      "metadata": {
        "id": "pHgB00RJbfJ-"
      },
      "source": [
        "def split_attached_words(input_text):\n",
        "  splitted_text = \" \".join([s for s in re.split(\"([A-Z][a-z]+[^A-Z]*)\",input_text) if s])\n",
        "  return splitted_text\n",
        "\n",
        "df['text'] = df['text'].apply(split_attached_words)"
      ],
      "execution_count": null,
      "outputs": []
    },
    {
      "cell_type": "code",
      "metadata": {
        "colab": {
          "base_uri": "https://localhost:8080/",
          "height": 418
        },
        "id": "idUIInZjzGi1",
        "outputId": "f21e7161-ee45-47cb-b999-df908d7c0147"
      },
      "source": [
        "df"
      ],
      "execution_count": null,
      "outputs": [
        {
          "output_type": "execute_result",
          "data": {
            "text/html": [
              "<div>\n",
              "<style scoped>\n",
              "    .dataframe tbody tr th:only-of-type {\n",
              "        vertical-align: middle;\n",
              "    }\n",
              "\n",
              "    .dataframe tbody tr th {\n",
              "        vertical-align: top;\n",
              "    }\n",
              "\n",
              "    .dataframe thead th {\n",
              "        text-align: right;\n",
              "    }\n",
              "</style>\n",
              "<table border=\"1\" class=\"dataframe\">\n",
              "  <thead>\n",
              "    <tr style=\"text-align: right;\">\n",
              "      <th></th>\n",
              "      <th>sentiment</th>\n",
              "      <th>text</th>\n",
              "    </tr>\n",
              "  </thead>\n",
              "  <tbody>\n",
              "    <tr>\n",
              "      <th>0</th>\n",
              "      <td>Negative</td>\n",
              "      <td>-  Awww, that's a bummer.   You shoulda got ...</td>\n",
              "    </tr>\n",
              "    <tr>\n",
              "      <th>1</th>\n",
              "      <td>Negative</td>\n",
              "      <td>is upset that he can't update his  Facebook by...</td>\n",
              "    </tr>\n",
              "    <tr>\n",
              "      <th>2</th>\n",
              "      <td>Negative</td>\n",
              "      <td>I dived many times for the ball.  Managed to ...</td>\n",
              "    </tr>\n",
              "    <tr>\n",
              "      <th>3</th>\n",
              "      <td>Negative</td>\n",
              "      <td>my whole body feels itchy and like its on fire</td>\n",
              "    </tr>\n",
              "    <tr>\n",
              "      <th>4</th>\n",
              "      <td>Negative</td>\n",
              "      <td>no, it's not behaving at all. i'm mad. why am...</td>\n",
              "    </tr>\n",
              "    <tr>\n",
              "      <th>...</th>\n",
              "      <td>...</td>\n",
              "      <td>...</td>\n",
              "    </tr>\n",
              "    <tr>\n",
              "      <th>1599995</th>\n",
              "      <td>Positive</td>\n",
              "      <td>Just woke up.  Having no school is the best fe...</td>\n",
              "    </tr>\n",
              "    <tr>\n",
              "      <th>1599996</th>\n",
              "      <td>Positive</td>\n",
              "      <td>The WDB.com -  Very cool to hear old  Walt int...</td>\n",
              "    </tr>\n",
              "    <tr>\n",
              "      <th>1599997</th>\n",
              "      <td>Positive</td>\n",
              "      <td>Are you ready for your  Mo Jo  Makeover?  Ask ...</td>\n",
              "    </tr>\n",
              "    <tr>\n",
              "      <th>1599998</th>\n",
              "      <td>Positive</td>\n",
              "      <td>Happy 38th  Birthday to my boo of alll time!!!...</td>\n",
              "    </tr>\n",
              "    <tr>\n",
              "      <th>1599999</th>\n",
              "      <td>Positive</td>\n",
              "      <td>happy</td>\n",
              "    </tr>\n",
              "  </tbody>\n",
              "</table>\n",
              "<p>1600000 rows × 2 columns</p>\n",
              "</div>"
            ],
            "text/plain": [
              "        sentiment                                               text\n",
              "0        Negative    -  Awww, that's a bummer.   You shoulda got ...\n",
              "1        Negative  is upset that he can't update his  Facebook by...\n",
              "2        Negative   I dived many times for the ball.  Managed to ...\n",
              "3        Negative    my whole body feels itchy and like its on fire \n",
              "4        Negative   no, it's not behaving at all. i'm mad. why am...\n",
              "...           ...                                                ...\n",
              "1599995  Positive  Just woke up.  Having no school is the best fe...\n",
              "1599996  Positive  The WDB.com -  Very cool to hear old  Walt int...\n",
              "1599997  Positive  Are you ready for your  Mo Jo  Makeover?  Ask ...\n",
              "1599998  Positive  Happy 38th  Birthday to my boo of alll time!!!...\n",
              "1599999  Positive                                         happy     \n",
              "\n",
              "[1600000 rows x 2 columns]"
            ]
          },
          "metadata": {},
          "execution_count": 49
        }
      ]
    },
    {
      "cell_type": "markdown",
      "metadata": {
        "id": "wn_PS0Mxqcch"
      },
      "source": [
        "### Lower casing all words"
      ]
    },
    {
      "cell_type": "code",
      "metadata": {
        "id": "UxKlnMBaqhoT"
      },
      "source": [
        "df['text']= df['text'].apply(lambda x: x.lower())"
      ],
      "execution_count": null,
      "outputs": []
    },
    {
      "cell_type": "code",
      "metadata": {
        "colab": {
          "base_uri": "https://localhost:8080/",
          "height": 512
        },
        "id": "37KrUbIRqqno",
        "outputId": "719ea7b8-3df8-4e2b-ae26-f8b80d19764a"
      },
      "source": [
        "df.head(15)"
      ],
      "execution_count": null,
      "outputs": [
        {
          "output_type": "execute_result",
          "data": {
            "text/html": [
              "<div>\n",
              "<style scoped>\n",
              "    .dataframe tbody tr th:only-of-type {\n",
              "        vertical-align: middle;\n",
              "    }\n",
              "\n",
              "    .dataframe tbody tr th {\n",
              "        vertical-align: top;\n",
              "    }\n",
              "\n",
              "    .dataframe thead th {\n",
              "        text-align: right;\n",
              "    }\n",
              "</style>\n",
              "<table border=\"1\" class=\"dataframe\">\n",
              "  <thead>\n",
              "    <tr style=\"text-align: right;\">\n",
              "      <th></th>\n",
              "      <th>sentiment</th>\n",
              "      <th>text</th>\n",
              "    </tr>\n",
              "  </thead>\n",
              "  <tbody>\n",
              "    <tr>\n",
              "      <th>0</th>\n",
              "      <td>Negative</td>\n",
              "      <td>-  awww, that's a bummer.   you shoulda got ...</td>\n",
              "    </tr>\n",
              "    <tr>\n",
              "      <th>1</th>\n",
              "      <td>Negative</td>\n",
              "      <td>is upset that he can't update his  facebook by...</td>\n",
              "    </tr>\n",
              "    <tr>\n",
              "      <th>2</th>\n",
              "      <td>Negative</td>\n",
              "      <td>i dived many times for the ball.  managed to ...</td>\n",
              "    </tr>\n",
              "    <tr>\n",
              "      <th>3</th>\n",
              "      <td>Negative</td>\n",
              "      <td>my whole body feels itchy and like its on fire</td>\n",
              "    </tr>\n",
              "    <tr>\n",
              "      <th>4</th>\n",
              "      <td>Negative</td>\n",
              "      <td>no, it's not behaving at all. i'm mad. why am...</td>\n",
              "    </tr>\n",
              "    <tr>\n",
              "      <th>5</th>\n",
              "      <td>Negative</td>\n",
              "      <td>not the whole crew</td>\n",
              "    </tr>\n",
              "    <tr>\n",
              "      <th>6</th>\n",
              "      <td>Negative</td>\n",
              "      <td>need a hug</td>\n",
              "    </tr>\n",
              "    <tr>\n",
              "      <th>7</th>\n",
              "      <td>Negative</td>\n",
              "      <td>hey  long time no see!  yes..  rains a bit ,o...</td>\n",
              "    </tr>\n",
              "    <tr>\n",
              "      <th>8</th>\n",
              "      <td>Negative</td>\n",
              "      <td>nope they didn't have it</td>\n",
              "    </tr>\n",
              "    <tr>\n",
              "      <th>9</th>\n",
              "      <td>Negative</td>\n",
              "      <td>que me muera ?</td>\n",
              "    </tr>\n",
              "    <tr>\n",
              "      <th>10</th>\n",
              "      <td>Negative</td>\n",
              "      <td>spring break in plain city... it's snowing</td>\n",
              "    </tr>\n",
              "    <tr>\n",
              "      <th>11</th>\n",
              "      <td>Negative</td>\n",
              "      <td>i just re-pierced my ears</td>\n",
              "    </tr>\n",
              "    <tr>\n",
              "      <th>12</th>\n",
              "      <td>Negative</td>\n",
              "      <td>i couldn't bear to watch it.   and  i thought...</td>\n",
              "    </tr>\n",
              "    <tr>\n",
              "      <th>13</th>\n",
              "      <td>Negative</td>\n",
              "      <td>it it counts, idk why  i did either. you nev...</td>\n",
              "    </tr>\n",
              "    <tr>\n",
              "      <th>14</th>\n",
              "      <td>Negative</td>\n",
              "      <td>i would've been the first, but i didn't have ...</td>\n",
              "    </tr>\n",
              "  </tbody>\n",
              "</table>\n",
              "</div>"
            ],
            "text/plain": [
              "   sentiment                                               text\n",
              "0   Negative    -  awww, that's a bummer.   you shoulda got ...\n",
              "1   Negative  is upset that he can't update his  facebook by...\n",
              "2   Negative   i dived many times for the ball.  managed to ...\n",
              "3   Negative    my whole body feels itchy and like its on fire \n",
              "4   Negative   no, it's not behaving at all. i'm mad. why am...\n",
              "5   Negative                                not the whole crew \n",
              "6   Negative                                        need a hug \n",
              "7   Negative   hey  long time no see!  yes..  rains a bit ,o...\n",
              "8   Negative                          nope they didn't have it \n",
              "9   Negative                                    que me muera ? \n",
              "10  Negative        spring break in plain city... it's snowing \n",
              "11  Negative                         i just re-pierced my ears \n",
              "12  Negative   i couldn't bear to watch it.   and  i thought...\n",
              "13  Negative    it it counts, idk why  i did either. you nev...\n",
              "14  Negative   i would've been the first, but i didn't have ..."
            ]
          },
          "metadata": {},
          "execution_count": 51
        }
      ]
    },
    {
      "cell_type": "markdown",
      "metadata": {
        "id": "JfWHEduw_qby"
      },
      "source": [
        "### Expanding contracted words"
      ]
    },
    {
      "cell_type": "code",
      "metadata": {
        "id": "9SBKKQ3X_woC"
      },
      "source": [
        "#dictionary consisting of the contraction and the actual value\n",
        "contraction_list={ \"'s\":\" is\" , \"'nt\":\" not\" , \"'m\":\" am\" , \"'ll\":\" will\" , \"'d\":\" would\" , \"'ve\":\" have\"\n",
        ", \"'re\":\" are\" }\n",
        "\n",
        "#replace the contractions\n",
        "def contraction_replace(text):\n",
        "  for key,value in contraction_list.items():\n",
        "    if key in text:\n",
        "        text=text.replace(key,value)\n",
        "  return text\n",
        "\n",
        "df['text'] = df['text'].apply(contraction_replace)"
      ],
      "execution_count": null,
      "outputs": []
    },
    {
      "cell_type": "code",
      "metadata": {
        "colab": {
          "base_uri": "https://localhost:8080/",
          "height": 512
        },
        "id": "uqvEtm2ZBo9Z",
        "outputId": "0b1473db-e6f6-4786-e649-8367135190c7"
      },
      "source": [
        "df.head(15)"
      ],
      "execution_count": null,
      "outputs": [
        {
          "output_type": "execute_result",
          "data": {
            "text/html": [
              "<div>\n",
              "<style scoped>\n",
              "    .dataframe tbody tr th:only-of-type {\n",
              "        vertical-align: middle;\n",
              "    }\n",
              "\n",
              "    .dataframe tbody tr th {\n",
              "        vertical-align: top;\n",
              "    }\n",
              "\n",
              "    .dataframe thead th {\n",
              "        text-align: right;\n",
              "    }\n",
              "</style>\n",
              "<table border=\"1\" class=\"dataframe\">\n",
              "  <thead>\n",
              "    <tr style=\"text-align: right;\">\n",
              "      <th></th>\n",
              "      <th>sentiment</th>\n",
              "      <th>text</th>\n",
              "    </tr>\n",
              "  </thead>\n",
              "  <tbody>\n",
              "    <tr>\n",
              "      <th>0</th>\n",
              "      <td>Negative</td>\n",
              "      <td>-  awww, that is a bummer.   you shoulda got...</td>\n",
              "    </tr>\n",
              "    <tr>\n",
              "      <th>1</th>\n",
              "      <td>Negative</td>\n",
              "      <td>is upset that he can't update his  facebook by...</td>\n",
              "    </tr>\n",
              "    <tr>\n",
              "      <th>2</th>\n",
              "      <td>Negative</td>\n",
              "      <td>i dived many times for the ball.  managed to ...</td>\n",
              "    </tr>\n",
              "    <tr>\n",
              "      <th>3</th>\n",
              "      <td>Negative</td>\n",
              "      <td>my whole body feels itchy and like its on fire</td>\n",
              "    </tr>\n",
              "    <tr>\n",
              "      <th>4</th>\n",
              "      <td>Negative</td>\n",
              "      <td>no, it is not behaving at all. i am mad. why ...</td>\n",
              "    </tr>\n",
              "    <tr>\n",
              "      <th>5</th>\n",
              "      <td>Negative</td>\n",
              "      <td>not the whole crew</td>\n",
              "    </tr>\n",
              "    <tr>\n",
              "      <th>6</th>\n",
              "      <td>Negative</td>\n",
              "      <td>need a hug</td>\n",
              "    </tr>\n",
              "    <tr>\n",
              "      <th>7</th>\n",
              "      <td>Negative</td>\n",
              "      <td>hey  long time no see!  yes..  rains a bit ,o...</td>\n",
              "    </tr>\n",
              "    <tr>\n",
              "      <th>8</th>\n",
              "      <td>Negative</td>\n",
              "      <td>nope they didn't have it</td>\n",
              "    </tr>\n",
              "    <tr>\n",
              "      <th>9</th>\n",
              "      <td>Negative</td>\n",
              "      <td>que me muera ?</td>\n",
              "    </tr>\n",
              "    <tr>\n",
              "      <th>10</th>\n",
              "      <td>Negative</td>\n",
              "      <td>spring break in plain city... it is snowing</td>\n",
              "    </tr>\n",
              "    <tr>\n",
              "      <th>11</th>\n",
              "      <td>Negative</td>\n",
              "      <td>i just re-pierced my ears</td>\n",
              "    </tr>\n",
              "    <tr>\n",
              "      <th>12</th>\n",
              "      <td>Negative</td>\n",
              "      <td>i couldn't bear to watch it.   and  i thought...</td>\n",
              "    </tr>\n",
              "    <tr>\n",
              "      <th>13</th>\n",
              "      <td>Negative</td>\n",
              "      <td>it it counts, idk why  i did either. you nev...</td>\n",
              "    </tr>\n",
              "    <tr>\n",
              "      <th>14</th>\n",
              "      <td>Negative</td>\n",
              "      <td>i would have been the first, but i didn't hav...</td>\n",
              "    </tr>\n",
              "  </tbody>\n",
              "</table>\n",
              "</div>"
            ],
            "text/plain": [
              "   sentiment                                               text\n",
              "0   Negative    -  awww, that is a bummer.   you shoulda got...\n",
              "1   Negative  is upset that he can't update his  facebook by...\n",
              "2   Negative   i dived many times for the ball.  managed to ...\n",
              "3   Negative    my whole body feels itchy and like its on fire \n",
              "4   Negative   no, it is not behaving at all. i am mad. why ...\n",
              "5   Negative                                not the whole crew \n",
              "6   Negative                                        need a hug \n",
              "7   Negative   hey  long time no see!  yes..  rains a bit ,o...\n",
              "8   Negative                          nope they didn't have it \n",
              "9   Negative                                    que me muera ? \n",
              "10  Negative       spring break in plain city... it is snowing \n",
              "11  Negative                         i just re-pierced my ears \n",
              "12  Negative   i couldn't bear to watch it.   and  i thought...\n",
              "13  Negative    it it counts, idk why  i did either. you nev...\n",
              "14  Negative   i would have been the first, but i didn't hav..."
            ]
          },
          "metadata": {},
          "execution_count": 53
        }
      ]
    },
    {
      "cell_type": "markdown",
      "metadata": {
        "id": "WZuLjcclI6TN"
      },
      "source": [
        "### Removing stopwords"
      ]
    },
    {
      "cell_type": "code",
      "metadata": {
        "colab": {
          "base_uri": "https://localhost:8080/"
        },
        "id": "3K4s-jVoI9eA",
        "outputId": "62659ea8-cc38-4ea4-f833-754bc416763d"
      },
      "source": [
        "#importing library of stopwords\n",
        "import nltk\n",
        "nltk.download('stopwords')\n",
        "from nltk.corpus import stopwords\n",
        "stop_list = set(stopwords.words(\"english\"))\n",
        "stop_list"
      ],
      "execution_count": null,
      "outputs": [
        {
          "output_type": "stream",
          "name": "stdout",
          "text": [
            "[nltk_data] Downloading package stopwords to /root/nltk_data...\n",
            "[nltk_data]   Package stopwords is already up-to-date!\n"
          ]
        },
        {
          "output_type": "execute_result",
          "data": {
            "text/plain": [
              "{'a',\n",
              " 'about',\n",
              " 'above',\n",
              " 'after',\n",
              " 'again',\n",
              " 'against',\n",
              " 'ain',\n",
              " 'all',\n",
              " 'am',\n",
              " 'an',\n",
              " 'and',\n",
              " 'any',\n",
              " 'are',\n",
              " 'aren',\n",
              " \"aren't\",\n",
              " 'as',\n",
              " 'at',\n",
              " 'be',\n",
              " 'because',\n",
              " 'been',\n",
              " 'before',\n",
              " 'being',\n",
              " 'below',\n",
              " 'between',\n",
              " 'both',\n",
              " 'but',\n",
              " 'by',\n",
              " 'can',\n",
              " 'couldn',\n",
              " \"couldn't\",\n",
              " 'd',\n",
              " 'did',\n",
              " 'didn',\n",
              " \"didn't\",\n",
              " 'do',\n",
              " 'does',\n",
              " 'doesn',\n",
              " \"doesn't\",\n",
              " 'doing',\n",
              " 'don',\n",
              " \"don't\",\n",
              " 'down',\n",
              " 'during',\n",
              " 'each',\n",
              " 'few',\n",
              " 'for',\n",
              " 'from',\n",
              " 'further',\n",
              " 'had',\n",
              " 'hadn',\n",
              " \"hadn't\",\n",
              " 'has',\n",
              " 'hasn',\n",
              " \"hasn't\",\n",
              " 'have',\n",
              " 'haven',\n",
              " \"haven't\",\n",
              " 'having',\n",
              " 'he',\n",
              " 'her',\n",
              " 'here',\n",
              " 'hers',\n",
              " 'herself',\n",
              " 'him',\n",
              " 'himself',\n",
              " 'his',\n",
              " 'how',\n",
              " 'i',\n",
              " 'if',\n",
              " 'in',\n",
              " 'into',\n",
              " 'is',\n",
              " 'isn',\n",
              " \"isn't\",\n",
              " 'it',\n",
              " \"it's\",\n",
              " 'its',\n",
              " 'itself',\n",
              " 'just',\n",
              " 'll',\n",
              " 'm',\n",
              " 'ma',\n",
              " 'me',\n",
              " 'mightn',\n",
              " \"mightn't\",\n",
              " 'more',\n",
              " 'most',\n",
              " 'mustn',\n",
              " \"mustn't\",\n",
              " 'my',\n",
              " 'myself',\n",
              " 'needn',\n",
              " \"needn't\",\n",
              " 'no',\n",
              " 'nor',\n",
              " 'not',\n",
              " 'now',\n",
              " 'o',\n",
              " 'of',\n",
              " 'off',\n",
              " 'on',\n",
              " 'once',\n",
              " 'only',\n",
              " 'or',\n",
              " 'other',\n",
              " 'our',\n",
              " 'ours',\n",
              " 'ourselves',\n",
              " 'out',\n",
              " 'over',\n",
              " 'own',\n",
              " 're',\n",
              " 's',\n",
              " 'same',\n",
              " 'shan',\n",
              " \"shan't\",\n",
              " 'she',\n",
              " \"she's\",\n",
              " 'should',\n",
              " \"should've\",\n",
              " 'shouldn',\n",
              " \"shouldn't\",\n",
              " 'so',\n",
              " 'some',\n",
              " 'such',\n",
              " 't',\n",
              " 'than',\n",
              " 'that',\n",
              " \"that'll\",\n",
              " 'the',\n",
              " 'their',\n",
              " 'theirs',\n",
              " 'them',\n",
              " 'themselves',\n",
              " 'then',\n",
              " 'there',\n",
              " 'these',\n",
              " 'they',\n",
              " 'this',\n",
              " 'those',\n",
              " 'through',\n",
              " 'to',\n",
              " 'too',\n",
              " 'under',\n",
              " 'until',\n",
              " 'up',\n",
              " 've',\n",
              " 'very',\n",
              " 'was',\n",
              " 'wasn',\n",
              " \"wasn't\",\n",
              " 'we',\n",
              " 'were',\n",
              " 'weren',\n",
              " \"weren't\",\n",
              " 'what',\n",
              " 'when',\n",
              " 'where',\n",
              " 'which',\n",
              " 'while',\n",
              " 'who',\n",
              " 'whom',\n",
              " 'why',\n",
              " 'will',\n",
              " 'with',\n",
              " 'won',\n",
              " \"won't\",\n",
              " 'wouldn',\n",
              " \"wouldn't\",\n",
              " 'y',\n",
              " 'you',\n",
              " \"you'd\",\n",
              " \"you'll\",\n",
              " \"you're\",\n",
              " \"you've\",\n",
              " 'your',\n",
              " 'yours',\n",
              " 'yourself',\n",
              " 'yourselves'}"
            ]
          },
          "metadata": {},
          "execution_count": 54
        }
      ]
    },
    {
      "cell_type": "code",
      "metadata": {
        "id": "rob2g_RLGUBA"
      },
      "source": [
        "stop_list.add(\"can't\")"
      ],
      "execution_count": null,
      "outputs": []
    },
    {
      "cell_type": "code",
      "metadata": {
        "colab": {
          "base_uri": "https://localhost:8080/"
        },
        "id": "j5k-NFQ4Glvx",
        "outputId": "2c93b6fb-4fb9-42b7-8abb-29eab132874e"
      },
      "source": [
        "stop_list"
      ],
      "execution_count": null,
      "outputs": [
        {
          "output_type": "execute_result",
          "data": {
            "text/plain": [
              "{'a',\n",
              " 'about',\n",
              " 'above',\n",
              " 'after',\n",
              " 'again',\n",
              " 'against',\n",
              " 'ain',\n",
              " 'all',\n",
              " 'am',\n",
              " 'an',\n",
              " 'and',\n",
              " 'any',\n",
              " 'are',\n",
              " 'aren',\n",
              " \"aren't\",\n",
              " 'as',\n",
              " 'at',\n",
              " 'be',\n",
              " 'because',\n",
              " 'been',\n",
              " 'before',\n",
              " 'being',\n",
              " 'below',\n",
              " 'between',\n",
              " 'both',\n",
              " 'but',\n",
              " 'by',\n",
              " 'can',\n",
              " \"can't\",\n",
              " 'couldn',\n",
              " \"couldn't\",\n",
              " 'd',\n",
              " 'did',\n",
              " 'didn',\n",
              " \"didn't\",\n",
              " 'do',\n",
              " 'does',\n",
              " 'doesn',\n",
              " \"doesn't\",\n",
              " 'doing',\n",
              " 'don',\n",
              " \"don't\",\n",
              " 'down',\n",
              " 'during',\n",
              " 'each',\n",
              " 'few',\n",
              " 'for',\n",
              " 'from',\n",
              " 'further',\n",
              " 'had',\n",
              " 'hadn',\n",
              " \"hadn't\",\n",
              " 'has',\n",
              " 'hasn',\n",
              " \"hasn't\",\n",
              " 'have',\n",
              " 'haven',\n",
              " \"haven't\",\n",
              " 'having',\n",
              " 'he',\n",
              " 'her',\n",
              " 'here',\n",
              " 'hers',\n",
              " 'herself',\n",
              " 'him',\n",
              " 'himself',\n",
              " 'his',\n",
              " 'how',\n",
              " 'i',\n",
              " 'if',\n",
              " 'in',\n",
              " 'into',\n",
              " 'is',\n",
              " 'isn',\n",
              " \"isn't\",\n",
              " 'it',\n",
              " \"it's\",\n",
              " 'its',\n",
              " 'itself',\n",
              " 'just',\n",
              " 'll',\n",
              " 'm',\n",
              " 'ma',\n",
              " 'me',\n",
              " 'mightn',\n",
              " \"mightn't\",\n",
              " 'more',\n",
              " 'most',\n",
              " 'mustn',\n",
              " \"mustn't\",\n",
              " 'my',\n",
              " 'myself',\n",
              " 'needn',\n",
              " \"needn't\",\n",
              " 'no',\n",
              " 'nor',\n",
              " 'not',\n",
              " 'now',\n",
              " 'o',\n",
              " 'of',\n",
              " 'off',\n",
              " 'on',\n",
              " 'once',\n",
              " 'only',\n",
              " 'or',\n",
              " 'other',\n",
              " 'our',\n",
              " 'ours',\n",
              " 'ourselves',\n",
              " 'out',\n",
              " 'over',\n",
              " 'own',\n",
              " 're',\n",
              " 's',\n",
              " 'same',\n",
              " 'shan',\n",
              " \"shan't\",\n",
              " 'she',\n",
              " \"she's\",\n",
              " 'should',\n",
              " \"should've\",\n",
              " 'shouldn',\n",
              " \"shouldn't\",\n",
              " 'so',\n",
              " 'some',\n",
              " 'such',\n",
              " 't',\n",
              " 'than',\n",
              " 'that',\n",
              " \"that'll\",\n",
              " 'the',\n",
              " 'their',\n",
              " 'theirs',\n",
              " 'them',\n",
              " 'themselves',\n",
              " 'then',\n",
              " 'there',\n",
              " 'these',\n",
              " 'they',\n",
              " 'this',\n",
              " 'those',\n",
              " 'through',\n",
              " 'to',\n",
              " 'too',\n",
              " 'under',\n",
              " 'until',\n",
              " 'up',\n",
              " 've',\n",
              " 'very',\n",
              " 'was',\n",
              " 'wasn',\n",
              " \"wasn't\",\n",
              " 'we',\n",
              " 'were',\n",
              " 'weren',\n",
              " \"weren't\",\n",
              " 'what',\n",
              " 'when',\n",
              " 'where',\n",
              " 'which',\n",
              " 'while',\n",
              " 'who',\n",
              " 'whom',\n",
              " 'why',\n",
              " 'will',\n",
              " 'with',\n",
              " 'won',\n",
              " \"won't\",\n",
              " 'wouldn',\n",
              " \"wouldn't\",\n",
              " 'y',\n",
              " 'you',\n",
              " \"you'd\",\n",
              " \"you'll\",\n",
              " \"you're\",\n",
              " \"you've\",\n",
              " 'your',\n",
              " 'yours',\n",
              " 'yourself',\n",
              " 'yourselves'}"
            ]
          },
          "metadata": {},
          "execution_count": 56
        }
      ]
    },
    {
      "cell_type": "code",
      "metadata": {
        "id": "h51ApGlXJK9B"
      },
      "source": [
        "# Exclude stopwords with Python's list comprehension and pandas.DataFrame.apply.\n",
        "df['text'] = df['text'].apply(lambda x: ' '.join([word for word in x.split() if word not in (stop_list)]))"
      ],
      "execution_count": null,
      "outputs": []
    },
    {
      "cell_type": "code",
      "metadata": {
        "colab": {
          "base_uri": "https://localhost:8080/"
        },
        "id": "R86iGZSHJcRc",
        "outputId": "a8c81daf-c69c-4fa6-baa1-2b1415af015d"
      },
      "source": [
        "df.head(15)"
      ],
      "execution_count": null,
      "outputs": [
        {
          "output_type": "execute_result",
          "data": {
            "text/html": [
              "<div>\n",
              "<style scoped>\n",
              "    .dataframe tbody tr th:only-of-type {\n",
              "        vertical-align: middle;\n",
              "    }\n",
              "\n",
              "    .dataframe tbody tr th {\n",
              "        vertical-align: top;\n",
              "    }\n",
              "\n",
              "    .dataframe thead th {\n",
              "        text-align: right;\n",
              "    }\n",
              "</style>\n",
              "<table border=\"1\" class=\"dataframe\">\n",
              "  <thead>\n",
              "    <tr style=\"text-align: right;\">\n",
              "      <th></th>\n",
              "      <th>sentiment</th>\n",
              "      <th>text</th>\n",
              "    </tr>\n",
              "  </thead>\n",
              "  <tbody>\n",
              "    <tr>\n",
              "      <th>0</th>\n",
              "      <td>Negative</td>\n",
              "      <td>- awww, bummer. shoulda got david carr third d...</td>\n",
              "    </tr>\n",
              "    <tr>\n",
              "      <th>1</th>\n",
              "      <td>Negative</td>\n",
              "      <td>upset update facebook texting it... might cry ...</td>\n",
              "    </tr>\n",
              "    <tr>\n",
              "      <th>2</th>\n",
              "      <td>Negative</td>\n",
              "      <td>dived many times ball. managed save 50% rest g...</td>\n",
              "    </tr>\n",
              "    <tr>\n",
              "      <th>3</th>\n",
              "      <td>Negative</td>\n",
              "      <td>whole body feels itchy like fire</td>\n",
              "    </tr>\n",
              "    <tr>\n",
              "      <th>4</th>\n",
              "      <td>Negative</td>\n",
              "      <td>no, behaving all. mad. here? see there.</td>\n",
              "    </tr>\n",
              "    <tr>\n",
              "      <th>5</th>\n",
              "      <td>Negative</td>\n",
              "      <td>whole crew</td>\n",
              "    </tr>\n",
              "    <tr>\n",
              "      <th>6</th>\n",
              "      <td>Negative</td>\n",
              "      <td>need hug</td>\n",
              "    </tr>\n",
              "    <tr>\n",
              "      <th>7</th>\n",
              "      <td>Negative</td>\n",
              "      <td>hey long time see! yes.. rains bit ,only bit l...</td>\n",
              "    </tr>\n",
              "    <tr>\n",
              "      <th>8</th>\n",
              "      <td>Negative</td>\n",
              "      <td>nope</td>\n",
              "    </tr>\n",
              "    <tr>\n",
              "      <th>9</th>\n",
              "      <td>Negative</td>\n",
              "      <td>que muera ?</td>\n",
              "    </tr>\n",
              "    <tr>\n",
              "      <th>10</th>\n",
              "      <td>Negative</td>\n",
              "      <td>spring break plain city... snowing</td>\n",
              "    </tr>\n",
              "    <tr>\n",
              "      <th>11</th>\n",
              "      <td>Negative</td>\n",
              "      <td>re-pierced ears</td>\n",
              "    </tr>\n",
              "    <tr>\n",
              "      <th>12</th>\n",
              "      <td>Negative</td>\n",
              "      <td>bear watch it. thought ua loss embarrassing . ...</td>\n",
              "    </tr>\n",
              "    <tr>\n",
              "      <th>13</th>\n",
              "      <td>Negative</td>\n",
              "      <td>counts, idk either. never talk anymore</td>\n",
              "    </tr>\n",
              "    <tr>\n",
              "      <th>14</th>\n",
              "      <td>Negative</td>\n",
              "      <td>would first, gun. really though, zac snyder do...</td>\n",
              "    </tr>\n",
              "  </tbody>\n",
              "</table>\n",
              "</div>"
            ],
            "text/plain": [
              "   sentiment                                               text\n",
              "0   Negative  - awww, bummer. shoulda got david carr third d...\n",
              "1   Negative  upset update facebook texting it... might cry ...\n",
              "2   Negative  dived many times ball. managed save 50% rest g...\n",
              "3   Negative                   whole body feels itchy like fire\n",
              "4   Negative            no, behaving all. mad. here? see there.\n",
              "5   Negative                                         whole crew\n",
              "6   Negative                                           need hug\n",
              "7   Negative  hey long time see! yes.. rains bit ,only bit l...\n",
              "8   Negative                                               nope\n",
              "9   Negative                                        que muera ?\n",
              "10  Negative                 spring break plain city... snowing\n",
              "11  Negative                                    re-pierced ears\n",
              "12  Negative  bear watch it. thought ua loss embarrassing . ...\n",
              "13  Negative             counts, idk either. never talk anymore\n",
              "14  Negative  would first, gun. really though, zac snyder do..."
            ]
          },
          "metadata": {},
          "execution_count": 58
        }
      ]
    },
    {
      "cell_type": "markdown",
      "metadata": {
        "id": "JzgFNyBEpxgL"
      },
      "source": [
        "### Removing Punctuations"
      ]
    },
    {
      "cell_type": "code",
      "metadata": {
        "colab": {
          "base_uri": "https://localhost:8080/"
        },
        "id": "kL20DAKqp4gb",
        "outputId": "6bbbc18f-1d74-460e-935c-cd463e7401e2"
      },
      "source": [
        "#library that contains punctuation\n",
        "import string\n",
        "string.punctuation"
      ],
      "execution_count": null,
      "outputs": [
        {
          "output_type": "execute_result",
          "data": {
            "application/vnd.google.colaboratory.intrinsic+json": {
              "type": "string"
            },
            "text/plain": [
              "'!\"#$%&\\'()*+,-./:;<=>?@[\\\\]^_`{|}~'"
            ]
          },
          "metadata": {},
          "execution_count": 59
        }
      ]
    },
    {
      "cell_type": "code",
      "metadata": {
        "id": "QAHlFp0nqAVo"
      },
      "source": [
        "#defining the function to remove punctuation\n",
        "def remove_punctuation(text):\n",
        "    punctuationfree=\"\".join([i for i in text if i not in string.punctuation])\n",
        "    return punctuationfree\n",
        "#storing the puntuation free text\n",
        "df['text']= df['text'].apply(lambda x:remove_punctuation(x))"
      ],
      "execution_count": null,
      "outputs": []
    },
    {
      "cell_type": "code",
      "metadata": {
        "colab": {
          "base_uri": "https://localhost:8080/"
        },
        "id": "pqyu4YIqqW8a",
        "outputId": "f2028f31-a11d-4e4a-d4a0-4a0603ec5038"
      },
      "source": [
        "df.head(15)"
      ],
      "execution_count": null,
      "outputs": [
        {
          "output_type": "execute_result",
          "data": {
            "text/html": [
              "<div>\n",
              "<style scoped>\n",
              "    .dataframe tbody tr th:only-of-type {\n",
              "        vertical-align: middle;\n",
              "    }\n",
              "\n",
              "    .dataframe tbody tr th {\n",
              "        vertical-align: top;\n",
              "    }\n",
              "\n",
              "    .dataframe thead th {\n",
              "        text-align: right;\n",
              "    }\n",
              "</style>\n",
              "<table border=\"1\" class=\"dataframe\">\n",
              "  <thead>\n",
              "    <tr style=\"text-align: right;\">\n",
              "      <th></th>\n",
              "      <th>sentiment</th>\n",
              "      <th>text</th>\n",
              "    </tr>\n",
              "  </thead>\n",
              "  <tbody>\n",
              "    <tr>\n",
              "      <th>0</th>\n",
              "      <td>Negative</td>\n",
              "      <td>awww bummer shoulda got david carr third day it</td>\n",
              "    </tr>\n",
              "    <tr>\n",
              "      <th>1</th>\n",
              "      <td>Negative</td>\n",
              "      <td>upset update facebook texting it might cry res...</td>\n",
              "    </tr>\n",
              "    <tr>\n",
              "      <th>2</th>\n",
              "      <td>Negative</td>\n",
              "      <td>dived many times ball managed save 50 rest go ...</td>\n",
              "    </tr>\n",
              "    <tr>\n",
              "      <th>3</th>\n",
              "      <td>Negative</td>\n",
              "      <td>whole body feels itchy like fire</td>\n",
              "    </tr>\n",
              "    <tr>\n",
              "      <th>4</th>\n",
              "      <td>Negative</td>\n",
              "      <td>no behaving all mad here see there</td>\n",
              "    </tr>\n",
              "    <tr>\n",
              "      <th>5</th>\n",
              "      <td>Negative</td>\n",
              "      <td>whole crew</td>\n",
              "    </tr>\n",
              "    <tr>\n",
              "      <th>6</th>\n",
              "      <td>Negative</td>\n",
              "      <td>need hug</td>\n",
              "    </tr>\n",
              "    <tr>\n",
              "      <th>7</th>\n",
              "      <td>Negative</td>\n",
              "      <td>hey long time see yes rains bit only bit lol  ...</td>\n",
              "    </tr>\n",
              "    <tr>\n",
              "      <th>8</th>\n",
              "      <td>Negative</td>\n",
              "      <td>nope</td>\n",
              "    </tr>\n",
              "    <tr>\n",
              "      <th>9</th>\n",
              "      <td>Negative</td>\n",
              "      <td>que muera</td>\n",
              "    </tr>\n",
              "    <tr>\n",
              "      <th>10</th>\n",
              "      <td>Negative</td>\n",
              "      <td>spring break plain city snowing</td>\n",
              "    </tr>\n",
              "    <tr>\n",
              "      <th>11</th>\n",
              "      <td>Negative</td>\n",
              "      <td>repierced ears</td>\n",
              "    </tr>\n",
              "    <tr>\n",
              "      <th>12</th>\n",
              "      <td>Negative</td>\n",
              "      <td>bear watch it thought ua loss embarrassing</td>\n",
              "    </tr>\n",
              "    <tr>\n",
              "      <th>13</th>\n",
              "      <td>Negative</td>\n",
              "      <td>counts idk either never talk anymore</td>\n",
              "    </tr>\n",
              "    <tr>\n",
              "      <th>14</th>\n",
              "      <td>Negative</td>\n",
              "      <td>would first gun really though zac snyder douch...</td>\n",
              "    </tr>\n",
              "  </tbody>\n",
              "</table>\n",
              "</div>"
            ],
            "text/plain": [
              "   sentiment                                               text\n",
              "0   Negative   awww bummer shoulda got david carr third day it \n",
              "1   Negative  upset update facebook texting it might cry res...\n",
              "2   Negative  dived many times ball managed save 50 rest go ...\n",
              "3   Negative                   whole body feels itchy like fire\n",
              "4   Negative                 no behaving all mad here see there\n",
              "5   Negative                                         whole crew\n",
              "6   Negative                                           need hug\n",
              "7   Negative  hey long time see yes rains bit only bit lol  ...\n",
              "8   Negative                                               nope\n",
              "9   Negative                                         que muera \n",
              "10  Negative                    spring break plain city snowing\n",
              "11  Negative                                     repierced ears\n",
              "12  Negative    bear watch it thought ua loss embarrassing     \n",
              "13  Negative               counts idk either never talk anymore\n",
              "14  Negative  would first gun really though zac snyder douch..."
            ]
          },
          "metadata": {},
          "execution_count": 61
        }
      ]
    },
    {
      "cell_type": "markdown",
      "metadata": {
        "id": "0qb--UeJqs8f"
      },
      "source": [
        "### Tokenization"
      ]
    },
    {
      "cell_type": "code",
      "metadata": {
        "colab": {
          "base_uri": "https://localhost:8080/"
        },
        "id": "6JZxYw5BqzLY",
        "outputId": "1f5b7063-f6c7-4939-8817-2e266df8b0e8"
      },
      "source": [
        "#importing function for tokenization\n",
        "nltk.download('punkt')\n",
        "from nltk.tokenize import word_tokenize"
      ],
      "execution_count": null,
      "outputs": [
        {
          "output_type": "stream",
          "name": "stdout",
          "text": [
            "[nltk_data] Downloading package punkt to /root/nltk_data...\n",
            "[nltk_data]   Unzipping tokenizers/punkt.zip.\n"
          ]
        }
      ]
    },
    {
      "cell_type": "code",
      "metadata": {
        "id": "Xm6wPW6hP46L"
      },
      "source": [
        "#defining function for tokenization\n",
        "def tokenize(text):\n",
        "  return word_tokenize(text)\n",
        "    \n",
        "#applying function to the column\n",
        "df['tweettext_tokens']= df['text'].apply(lambda x: tokenize(x))"
      ],
      "execution_count": null,
      "outputs": []
    },
    {
      "cell_type": "code",
      "metadata": {
        "colab": {
          "base_uri": "https://localhost:8080/"
        },
        "id": "o8K1zUSdrBM7",
        "outputId": "579d38d4-d4aa-41bc-dba4-931cf7f41f82"
      },
      "source": [
        "df"
      ],
      "execution_count": null,
      "outputs": [
        {
          "output_type": "execute_result",
          "data": {
            "text/html": [
              "<div>\n",
              "<style scoped>\n",
              "    .dataframe tbody tr th:only-of-type {\n",
              "        vertical-align: middle;\n",
              "    }\n",
              "\n",
              "    .dataframe tbody tr th {\n",
              "        vertical-align: top;\n",
              "    }\n",
              "\n",
              "    .dataframe thead th {\n",
              "        text-align: right;\n",
              "    }\n",
              "</style>\n",
              "<table border=\"1\" class=\"dataframe\">\n",
              "  <thead>\n",
              "    <tr style=\"text-align: right;\">\n",
              "      <th></th>\n",
              "      <th>sentiment</th>\n",
              "      <th>text</th>\n",
              "      <th>tweettext_tokens</th>\n",
              "    </tr>\n",
              "  </thead>\n",
              "  <tbody>\n",
              "    <tr>\n",
              "      <th>0</th>\n",
              "      <td>Negative</td>\n",
              "      <td>awww bummer shoulda got david carr third day it</td>\n",
              "      <td>[awww, bummer, shoulda, got, david, carr, thir...</td>\n",
              "    </tr>\n",
              "    <tr>\n",
              "      <th>1</th>\n",
              "      <td>Negative</td>\n",
              "      <td>upset update facebook texting it might cry res...</td>\n",
              "      <td>[upset, update, facebook, texting, it, might, ...</td>\n",
              "    </tr>\n",
              "    <tr>\n",
              "      <th>2</th>\n",
              "      <td>Negative</td>\n",
              "      <td>dived many times ball managed save 50 rest go ...</td>\n",
              "      <td>[dived, many, times, ball, managed, save, 50, ...</td>\n",
              "    </tr>\n",
              "    <tr>\n",
              "      <th>3</th>\n",
              "      <td>Negative</td>\n",
              "      <td>whole body feels itchy like fire</td>\n",
              "      <td>[whole, body, feels, itchy, like, fire]</td>\n",
              "    </tr>\n",
              "    <tr>\n",
              "      <th>4</th>\n",
              "      <td>Negative</td>\n",
              "      <td>no behaving all mad here see there</td>\n",
              "      <td>[no, behaving, all, mad, here, see, there]</td>\n",
              "    </tr>\n",
              "    <tr>\n",
              "      <th>...</th>\n",
              "      <td>...</td>\n",
              "      <td>...</td>\n",
              "      <td>...</td>\n",
              "    </tr>\n",
              "    <tr>\n",
              "      <th>1599995</th>\n",
              "      <td>Positive</td>\n",
              "      <td>woke up school best feeling ever</td>\n",
              "      <td>[woke, up, school, best, feeling, ever]</td>\n",
              "    </tr>\n",
              "    <tr>\n",
              "      <th>1599996</th>\n",
              "      <td>Positive</td>\n",
              "      <td>wdbcom  cool hear old walt interviews â«</td>\n",
              "      <td>[wdbcom, cool, hear, old, walt, interviews, â...</td>\n",
              "    </tr>\n",
              "    <tr>\n",
              "      <th>1599997</th>\n",
              "      <td>Positive</td>\n",
              "      <td>ready mo jo makeover ask details</td>\n",
              "      <td>[ready, mo, jo, makeover, ask, details]</td>\n",
              "    </tr>\n",
              "    <tr>\n",
              "      <th>1599998</th>\n",
              "      <td>Positive</td>\n",
              "      <td>happy 38th birthday boo alll time tupac amaru ...</td>\n",
              "      <td>[happy, 38th, birthday, boo, alll, time, tupac...</td>\n",
              "    </tr>\n",
              "    <tr>\n",
              "      <th>1599999</th>\n",
              "      <td>Positive</td>\n",
              "      <td>happy</td>\n",
              "      <td>[happy]</td>\n",
              "    </tr>\n",
              "  </tbody>\n",
              "</table>\n",
              "<p>1600000 rows × 3 columns</p>\n",
              "</div>"
            ],
            "text/plain": [
              "        sentiment  ...                                   tweettext_tokens\n",
              "0        Negative  ...  [awww, bummer, shoulda, got, david, carr, thir...\n",
              "1        Negative  ...  [upset, update, facebook, texting, it, might, ...\n",
              "2        Negative  ...  [dived, many, times, ball, managed, save, 50, ...\n",
              "3        Negative  ...            [whole, body, feels, itchy, like, fire]\n",
              "4        Negative  ...         [no, behaving, all, mad, here, see, there]\n",
              "...           ...  ...                                                ...\n",
              "1599995  Positive  ...            [woke, up, school, best, feeling, ever]\n",
              "1599996  Positive  ...  [wdbcom, cool, hear, old, walt, interviews, â...\n",
              "1599997  Positive  ...            [ready, mo, jo, makeover, ask, details]\n",
              "1599998  Positive  ...  [happy, 38th, birthday, boo, alll, time, tupac...\n",
              "1599999  Positive  ...                                            [happy]\n",
              "\n",
              "[1600000 rows x 3 columns]"
            ]
          },
          "metadata": {},
          "execution_count": 64
        }
      ]
    },
    {
      "cell_type": "markdown",
      "metadata": {
        "id": "2q9kSC4_4w59"
      },
      "source": [
        "### Stemming"
      ]
    },
    {
      "cell_type": "code",
      "metadata": {
        "id": "nUEJh4bt45bs"
      },
      "source": [
        "#importing the Stemming function from nltk library\n",
        "from nltk.stem.porter import PorterStemmer\n",
        "#defining the object for stemming\n",
        "porter_stemmer = PorterStemmer()"
      ],
      "execution_count": null,
      "outputs": []
    },
    {
      "cell_type": "code",
      "metadata": {
        "id": "bFQUmYxc5Cs_"
      },
      "source": [
        "#defining a function for stemming\n",
        "def stemming(text):\n",
        "  stem_text = [porter_stemmer.stem(word) for word in text]\n",
        "  return stem_text\n",
        "\n",
        "df['text_stemmed']=df['tweettext_tokens'].apply(lambda x: stemming(x))"
      ],
      "execution_count": null,
      "outputs": []
    },
    {
      "cell_type": "code",
      "metadata": {
        "colab": {
          "base_uri": "https://localhost:8080/",
          "height": 418
        },
        "id": "63-yW96r5bSf",
        "outputId": "36ccc15e-12b4-44cb-a89c-6b151bd63a21"
      },
      "source": [
        "df"
      ],
      "execution_count": null,
      "outputs": [
        {
          "output_type": "execute_result",
          "data": {
            "text/html": [
              "<div>\n",
              "<style scoped>\n",
              "    .dataframe tbody tr th:only-of-type {\n",
              "        vertical-align: middle;\n",
              "    }\n",
              "\n",
              "    .dataframe tbody tr th {\n",
              "        vertical-align: top;\n",
              "    }\n",
              "\n",
              "    .dataframe thead th {\n",
              "        text-align: right;\n",
              "    }\n",
              "</style>\n",
              "<table border=\"1\" class=\"dataframe\">\n",
              "  <thead>\n",
              "    <tr style=\"text-align: right;\">\n",
              "      <th></th>\n",
              "      <th>sentiment</th>\n",
              "      <th>text</th>\n",
              "      <th>tweettext_tokens</th>\n",
              "      <th>text_stemmed</th>\n",
              "    </tr>\n",
              "  </thead>\n",
              "  <tbody>\n",
              "    <tr>\n",
              "      <th>0</th>\n",
              "      <td>Negative</td>\n",
              "      <td>awww bummer shoulda got david carr third day it</td>\n",
              "      <td>[awww, bummer, shoulda, got, david, carr, thir...</td>\n",
              "      <td>[awww, bummer, shoulda, got, david, carr, thir...</td>\n",
              "    </tr>\n",
              "    <tr>\n",
              "      <th>1</th>\n",
              "      <td>Negative</td>\n",
              "      <td>upset update facebook texting it might cry res...</td>\n",
              "      <td>[upset, update, facebook, texting, it, might, ...</td>\n",
              "      <td>[upset, updat, facebook, text, it, might, cri,...</td>\n",
              "    </tr>\n",
              "    <tr>\n",
              "      <th>2</th>\n",
              "      <td>Negative</td>\n",
              "      <td>dived many times ball managed save 50 rest go ...</td>\n",
              "      <td>[dived, many, times, ball, managed, save, 50, ...</td>\n",
              "      <td>[dive, mani, time, ball, manag, save, 50, rest...</td>\n",
              "    </tr>\n",
              "    <tr>\n",
              "      <th>3</th>\n",
              "      <td>Negative</td>\n",
              "      <td>whole body feels itchy like fire</td>\n",
              "      <td>[whole, body, feels, itchy, like, fire]</td>\n",
              "      <td>[whole, bodi, feel, itchi, like, fire]</td>\n",
              "    </tr>\n",
              "    <tr>\n",
              "      <th>4</th>\n",
              "      <td>Negative</td>\n",
              "      <td>no behaving all mad here see there</td>\n",
              "      <td>[no, behaving, all, mad, here, see, there]</td>\n",
              "      <td>[no, behav, all, mad, here, see, there]</td>\n",
              "    </tr>\n",
              "    <tr>\n",
              "      <th>...</th>\n",
              "      <td>...</td>\n",
              "      <td>...</td>\n",
              "      <td>...</td>\n",
              "      <td>...</td>\n",
              "    </tr>\n",
              "    <tr>\n",
              "      <th>1599995</th>\n",
              "      <td>Positive</td>\n",
              "      <td>woke up school best feeling ever</td>\n",
              "      <td>[woke, up, school, best, feeling, ever]</td>\n",
              "      <td>[woke, up, school, best, feel, ever]</td>\n",
              "    </tr>\n",
              "    <tr>\n",
              "      <th>1599996</th>\n",
              "      <td>Positive</td>\n",
              "      <td>wdbcom  cool hear old walt interviews â«</td>\n",
              "      <td>[wdbcom, cool, hear, old, walt, interviews, â...</td>\n",
              "      <td>[wdbcom, cool, hear, old, walt, interview, â, «]</td>\n",
              "    </tr>\n",
              "    <tr>\n",
              "      <th>1599997</th>\n",
              "      <td>Positive</td>\n",
              "      <td>ready mo jo makeover ask details</td>\n",
              "      <td>[ready, mo, jo, makeover, ask, details]</td>\n",
              "      <td>[readi, mo, jo, makeov, ask, detail]</td>\n",
              "    </tr>\n",
              "    <tr>\n",
              "      <th>1599998</th>\n",
              "      <td>Positive</td>\n",
              "      <td>happy 38th birthday boo alll time tupac amaru ...</td>\n",
              "      <td>[happy, 38th, birthday, boo, alll, time, tupac...</td>\n",
              "      <td>[happi, 38th, birthday, boo, alll, time, tupac...</td>\n",
              "    </tr>\n",
              "    <tr>\n",
              "      <th>1599999</th>\n",
              "      <td>Positive</td>\n",
              "      <td>happy</td>\n",
              "      <td>[happy]</td>\n",
              "      <td>[happi]</td>\n",
              "    </tr>\n",
              "  </tbody>\n",
              "</table>\n",
              "<p>1600000 rows × 4 columns</p>\n",
              "</div>"
            ],
            "text/plain": [
              "        sentiment  ...                                       text_stemmed\n",
              "0        Negative  ...  [awww, bummer, shoulda, got, david, carr, thir...\n",
              "1        Negative  ...  [upset, updat, facebook, text, it, might, cri,...\n",
              "2        Negative  ...  [dive, mani, time, ball, manag, save, 50, rest...\n",
              "3        Negative  ...             [whole, bodi, feel, itchi, like, fire]\n",
              "4        Negative  ...            [no, behav, all, mad, here, see, there]\n",
              "...           ...  ...                                                ...\n",
              "1599995  Positive  ...               [woke, up, school, best, feel, ever]\n",
              "1599996  Positive  ...  [wdbcom, cool, hear, old, walt, interview, â, «]\n",
              "1599997  Positive  ...               [readi, mo, jo, makeov, ask, detail]\n",
              "1599998  Positive  ...  [happi, 38th, birthday, boo, alll, time, tupac...\n",
              "1599999  Positive  ...                                            [happi]\n",
              "\n",
              "[1600000 rows x 4 columns]"
            ]
          },
          "metadata": {},
          "execution_count": 67
        }
      ]
    },
    {
      "cell_type": "markdown",
      "metadata": {
        "id": "740-j7Sp5cDd"
      },
      "source": [
        "### Lemmatization"
      ]
    },
    {
      "cell_type": "code",
      "metadata": {
        "colab": {
          "base_uri": "https://localhost:8080/"
        },
        "id": "W8HDQPjN5fHX",
        "outputId": "c1b7d10e-4add-43cd-809f-265bca949d8d"
      },
      "source": [
        "nltk.download('wordnet')\n",
        "from nltk.stem import WordNetLemmatizer\n",
        "#defining the object for Lemmatization\n",
        "wordnet_lemmatizer = WordNetLemmatizer()"
      ],
      "execution_count": null,
      "outputs": [
        {
          "output_type": "stream",
          "name": "stdout",
          "text": [
            "[nltk_data] Downloading package wordnet to /root/nltk_data...\n",
            "[nltk_data]   Unzipping corpora/wordnet.zip.\n"
          ]
        }
      ]
    },
    {
      "cell_type": "code",
      "metadata": {
        "id": "lHW1TGTZ5ltq"
      },
      "source": [
        "#defining the function for lemmatization\n",
        "def lemmatizer(text):\n",
        "  lemm_text = [wordnet_lemmatizer.lemmatize(word) for word in text]\n",
        "  return lemm_text\n",
        "\n",
        "df['text_lemmatized']=df['tweettext_tokens'].apply(lambda x:lemmatizer(x))"
      ],
      "execution_count": null,
      "outputs": []
    },
    {
      "cell_type": "code",
      "metadata": {
        "colab": {
          "base_uri": "https://localhost:8080/",
          "height": 418
        },
        "id": "RLiGPaIy7Anr",
        "outputId": "d46e4a42-34b1-493c-c12d-74180d192b4a"
      },
      "source": [
        "df"
      ],
      "execution_count": null,
      "outputs": [
        {
          "output_type": "execute_result",
          "data": {
            "text/html": [
              "<div>\n",
              "<style scoped>\n",
              "    .dataframe tbody tr th:only-of-type {\n",
              "        vertical-align: middle;\n",
              "    }\n",
              "\n",
              "    .dataframe tbody tr th {\n",
              "        vertical-align: top;\n",
              "    }\n",
              "\n",
              "    .dataframe thead th {\n",
              "        text-align: right;\n",
              "    }\n",
              "</style>\n",
              "<table border=\"1\" class=\"dataframe\">\n",
              "  <thead>\n",
              "    <tr style=\"text-align: right;\">\n",
              "      <th></th>\n",
              "      <th>sentiment</th>\n",
              "      <th>text</th>\n",
              "      <th>tweettext_tokens</th>\n",
              "      <th>text_stemmed</th>\n",
              "      <th>text_lemmatized</th>\n",
              "    </tr>\n",
              "  </thead>\n",
              "  <tbody>\n",
              "    <tr>\n",
              "      <th>0</th>\n",
              "      <td>Negative</td>\n",
              "      <td>awww bummer shoulda got david carr third day it</td>\n",
              "      <td>[awww, bummer, shoulda, got, david, carr, thir...</td>\n",
              "      <td>[awww, bummer, shoulda, got, david, carr, thir...</td>\n",
              "      <td>[awww, bummer, shoulda, got, david, carr, thir...</td>\n",
              "    </tr>\n",
              "    <tr>\n",
              "      <th>1</th>\n",
              "      <td>Negative</td>\n",
              "      <td>upset update facebook texting it might cry res...</td>\n",
              "      <td>[upset, update, facebook, texting, it, might, ...</td>\n",
              "      <td>[upset, updat, facebook, text, it, might, cri,...</td>\n",
              "      <td>[upset, update, facebook, texting, it, might, ...</td>\n",
              "    </tr>\n",
              "    <tr>\n",
              "      <th>2</th>\n",
              "      <td>Negative</td>\n",
              "      <td>dived many times ball managed save 50 rest go ...</td>\n",
              "      <td>[dived, many, times, ball, managed, save, 50, ...</td>\n",
              "      <td>[dive, mani, time, ball, manag, save, 50, rest...</td>\n",
              "      <td>[dived, many, time, ball, managed, save, 50, r...</td>\n",
              "    </tr>\n",
              "    <tr>\n",
              "      <th>3</th>\n",
              "      <td>Negative</td>\n",
              "      <td>whole body feels itchy like fire</td>\n",
              "      <td>[whole, body, feels, itchy, like, fire]</td>\n",
              "      <td>[whole, bodi, feel, itchi, like, fire]</td>\n",
              "      <td>[whole, body, feel, itchy, like, fire]</td>\n",
              "    </tr>\n",
              "    <tr>\n",
              "      <th>4</th>\n",
              "      <td>Negative</td>\n",
              "      <td>no behaving all mad here see there</td>\n",
              "      <td>[no, behaving, all, mad, here, see, there]</td>\n",
              "      <td>[no, behav, all, mad, here, see, there]</td>\n",
              "      <td>[no, behaving, all, mad, here, see, there]</td>\n",
              "    </tr>\n",
              "    <tr>\n",
              "      <th>...</th>\n",
              "      <td>...</td>\n",
              "      <td>...</td>\n",
              "      <td>...</td>\n",
              "      <td>...</td>\n",
              "      <td>...</td>\n",
              "    </tr>\n",
              "    <tr>\n",
              "      <th>1599995</th>\n",
              "      <td>Positive</td>\n",
              "      <td>woke up school best feeling ever</td>\n",
              "      <td>[woke, up, school, best, feeling, ever]</td>\n",
              "      <td>[woke, up, school, best, feel, ever]</td>\n",
              "      <td>[woke, up, school, best, feeling, ever]</td>\n",
              "    </tr>\n",
              "    <tr>\n",
              "      <th>1599996</th>\n",
              "      <td>Positive</td>\n",
              "      <td>wdbcom  cool hear old walt interviews â«</td>\n",
              "      <td>[wdbcom, cool, hear, old, walt, interviews, â...</td>\n",
              "      <td>[wdbcom, cool, hear, old, walt, interview, â, «]</td>\n",
              "      <td>[wdbcom, cool, hear, old, walt, interview, â, «]</td>\n",
              "    </tr>\n",
              "    <tr>\n",
              "      <th>1599997</th>\n",
              "      <td>Positive</td>\n",
              "      <td>ready mo jo makeover ask details</td>\n",
              "      <td>[ready, mo, jo, makeover, ask, details]</td>\n",
              "      <td>[readi, mo, jo, makeov, ask, detail]</td>\n",
              "      <td>[ready, mo, jo, makeover, ask, detail]</td>\n",
              "    </tr>\n",
              "    <tr>\n",
              "      <th>1599998</th>\n",
              "      <td>Positive</td>\n",
              "      <td>happy 38th birthday boo alll time tupac amaru ...</td>\n",
              "      <td>[happy, 38th, birthday, boo, alll, time, tupac...</td>\n",
              "      <td>[happi, 38th, birthday, boo, alll, time, tupac...</td>\n",
              "      <td>[happy, 38th, birthday, boo, alll, time, tupac...</td>\n",
              "    </tr>\n",
              "    <tr>\n",
              "      <th>1599999</th>\n",
              "      <td>Positive</td>\n",
              "      <td>happy</td>\n",
              "      <td>[happy]</td>\n",
              "      <td>[happi]</td>\n",
              "      <td>[happy]</td>\n",
              "    </tr>\n",
              "  </tbody>\n",
              "</table>\n",
              "<p>1600000 rows × 5 columns</p>\n",
              "</div>"
            ],
            "text/plain": [
              "        sentiment  ...                                    text_lemmatized\n",
              "0        Negative  ...  [awww, bummer, shoulda, got, david, carr, thir...\n",
              "1        Negative  ...  [upset, update, facebook, texting, it, might, ...\n",
              "2        Negative  ...  [dived, many, time, ball, managed, save, 50, r...\n",
              "3        Negative  ...             [whole, body, feel, itchy, like, fire]\n",
              "4        Negative  ...         [no, behaving, all, mad, here, see, there]\n",
              "...           ...  ...                                                ...\n",
              "1599995  Positive  ...            [woke, up, school, best, feeling, ever]\n",
              "1599996  Positive  ...  [wdbcom, cool, hear, old, walt, interview, â, «]\n",
              "1599997  Positive  ...             [ready, mo, jo, makeover, ask, detail]\n",
              "1599998  Positive  ...  [happy, 38th, birthday, boo, alll, time, tupac...\n",
              "1599999  Positive  ...                                            [happy]\n",
              "\n",
              "[1600000 rows x 5 columns]"
            ]
          },
          "metadata": {},
          "execution_count": 70
        }
      ]
    }
  ]
}